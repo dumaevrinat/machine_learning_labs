{
 "cells": [
  {
   "cell_type": "markdown",
   "metadata": {},
   "source": [
    "# Задание 1"
   ]
  },
  {
   "cell_type": "markdown",
   "metadata": {},
   "source": [
    "Загрузите данные из файла reglab1.txt. Постройте по набору данных регрессии, используя модели с различными зависимыми переменными. Выберите наиболее подходящую модель."
   ]
  },
  {
   "cell_type": "code",
   "execution_count": 321,
   "metadata": {},
   "outputs": [],
   "source": [
    "import matplotlib.pyplot as plt\n",
    "import numpy as np\n",
    "import pandas as pd\n",
    "\n",
    "from sklearn import metrics\n",
    "from sklearn.model_selection import train_test_split\n",
    "\n",
    "from sklearn.preprocessing import LabelEncoder\n",
    "\n",
    "from sklearn.linear_model import LinearRegression, Ridge\n",
    "from sklearn.svm import SVR\n",
    "from sklearn.tree import DecisionTreeRegressor"
   ]
  },
  {
   "cell_type": "code",
   "execution_count": 89,
   "metadata": {
    "scrolled": true
   },
   "outputs": [
    {
     "data": {
      "text/html": [
       "<div>\n",
       "<style scoped>\n",
       "    .dataframe tbody tr th:only-of-type {\n",
       "        vertical-align: middle;\n",
       "    }\n",
       "\n",
       "    .dataframe tbody tr th {\n",
       "        vertical-align: top;\n",
       "    }\n",
       "\n",
       "    .dataframe thead th {\n",
       "        text-align: right;\n",
       "    }\n",
       "</style>\n",
       "<table border=\"1\" class=\"dataframe\">\n",
       "  <thead>\n",
       "    <tr style=\"text-align: right;\">\n",
       "      <th></th>\n",
       "      <th>z</th>\n",
       "      <th>x</th>\n",
       "      <th>y</th>\n",
       "    </tr>\n",
       "  </thead>\n",
       "  <tbody>\n",
       "    <tr>\n",
       "      <th>0</th>\n",
       "      <td>2.836772</td>\n",
       "      <td>0.271010</td>\n",
       "      <td>0.308331</td>\n",
       "    </tr>\n",
       "    <tr>\n",
       "      <th>1</th>\n",
       "      <td>4.987167</td>\n",
       "      <td>0.589598</td>\n",
       "      <td>0.514913</td>\n",
       "    </tr>\n",
       "    <tr>\n",
       "      <th>2</th>\n",
       "      <td>6.412325</td>\n",
       "      <td>0.651744</td>\n",
       "      <td>0.730453</td>\n",
       "    </tr>\n",
       "    <tr>\n",
       "      <th>3</th>\n",
       "      <td>4.641998</td>\n",
       "      <td>0.581983</td>\n",
       "      <td>0.461400</td>\n",
       "    </tr>\n",
       "    <tr>\n",
       "      <th>4</th>\n",
       "      <td>2.793941</td>\n",
       "      <td>0.463688</td>\n",
       "      <td>0.191102</td>\n",
       "    </tr>\n",
       "  </tbody>\n",
       "</table>\n",
       "</div>"
      ],
      "text/plain": [
       "          z         x         y\n",
       "0  2.836772  0.271010  0.308331\n",
       "1  4.987167  0.589598  0.514913\n",
       "2  6.412325  0.651744  0.730453\n",
       "3  4.641998  0.581983  0.461400\n",
       "4  2.793941  0.463688  0.191102"
      ]
     },
     "execution_count": 89,
     "metadata": {},
     "output_type": "execute_result"
    }
   ],
   "source": [
    "data_reglab1 = pd.read_csv('lab5_files/reglab1.txt', sep='\\t')\n",
    "data_reglab1.head()"
   ]
  },
  {
   "cell_type": "markdown",
   "metadata": {},
   "source": [
    "#### Используя метод score и без разделения на выборки"
   ]
  },
  {
   "cell_type": "code",
   "execution_count": 101,
   "metadata": {},
   "outputs": [
    {
     "name": "stdout",
     "output_type": "stream",
     "text": [
      "y: 0.950528\n"
     ]
    }
   ],
   "source": [
    "x_train = data_reglab1[['z', 'x']]\n",
    "y_train = data_reglab1['y']\n",
    "\n",
    "model = LinearRegression()\n",
    "model.fit(x_train, y_train)\n",
    "\n",
    "print(f'y: {model.score(x_train, y_train):.{6}f}')"
   ]
  },
  {
   "cell_type": "code",
   "execution_count": 105,
   "metadata": {},
   "outputs": [
    {
     "name": "stdout",
     "output_type": "stream",
     "text": [
      "z: 0.968629\n"
     ]
    }
   ],
   "source": [
    "x_train = data_reglab1[['x', 'y']]\n",
    "y_train = data_reglab1['z']\n",
    "\n",
    "model = LinearRegression()\n",
    "model.fit(x_train, y_train)\n",
    "\n",
    "print(f'z: {model.score(x_train, y_train):.{6}f}')"
   ]
  },
  {
   "cell_type": "code",
   "execution_count": 108,
   "metadata": {},
   "outputs": [
    {
     "name": "stdout",
     "output_type": "stream",
     "text": [
      "x: 0.918668\n"
     ]
    }
   ],
   "source": [
    "x_train = data_reglab1[['y', 'z']]\n",
    "y_train = data_reglab1['x']\n",
    "\n",
    "model = LinearRegression()\n",
    "model.fit(x_train, y_train)\n",
    "\n",
    "print(f'x: {model.score(x_train, y_train):.{6}f}')"
   ]
  },
  {
   "cell_type": "markdown",
   "metadata": {},
   "source": [
    "#### Для Z"
   ]
  },
  {
   "cell_type": "code",
   "execution_count": 14,
   "metadata": {},
   "outputs": [
    {
     "name": "stdout",
     "output_type": "stream",
     "text": [
      "Mean Absolute Error: 0.21272275385091804\n",
      "Mean Squared Error: 0.09135739350115867\n",
      "Root Mean Squared Error: 0.3022538560567237\n"
     ]
    },
    {
     "data": {
      "text/html": [
       "<div>\n",
       "<style scoped>\n",
       "    .dataframe tbody tr th:only-of-type {\n",
       "        vertical-align: middle;\n",
       "    }\n",
       "\n",
       "    .dataframe tbody tr th {\n",
       "        vertical-align: top;\n",
       "    }\n",
       "\n",
       "    .dataframe thead th {\n",
       "        text-align: right;\n",
       "    }\n",
       "</style>\n",
       "<table border=\"1\" class=\"dataframe\">\n",
       "  <thead>\n",
       "    <tr style=\"text-align: right;\">\n",
       "      <th></th>\n",
       "      <th>Actual</th>\n",
       "      <th>Predicted</th>\n",
       "    </tr>\n",
       "  </thead>\n",
       "  <tbody>\n",
       "    <tr>\n",
       "      <th>115</th>\n",
       "      <td>3.722259</td>\n",
       "      <td>3.724714</td>\n",
       "    </tr>\n",
       "    <tr>\n",
       "      <th>199</th>\n",
       "      <td>3.928354</td>\n",
       "      <td>4.013498</td>\n",
       "    </tr>\n",
       "    <tr>\n",
       "      <th>136</th>\n",
       "      <td>6.422061</td>\n",
       "      <td>6.492873</td>\n",
       "    </tr>\n",
       "    <tr>\n",
       "      <th>148</th>\n",
       "      <td>3.717654</td>\n",
       "      <td>4.174198</td>\n",
       "    </tr>\n",
       "    <tr>\n",
       "      <th>0</th>\n",
       "      <td>2.836772</td>\n",
       "      <td>2.615189</td>\n",
       "    </tr>\n",
       "  </tbody>\n",
       "</table>\n",
       "</div>"
      ],
      "text/plain": [
       "       Actual  Predicted\n",
       "115  3.722259   3.724714\n",
       "199  3.928354   4.013498\n",
       "136  6.422061   6.492873\n",
       "148  3.717654   4.174198\n",
       "0    2.836772   2.615189"
      ]
     },
     "execution_count": 14,
     "metadata": {},
     "output_type": "execute_result"
    }
   ],
   "source": [
    "x_train, x_test, y_train, y_test = train_test_split(\n",
    "        data_reglab1.drop(['z'], axis=1), \n",
    "        data_reglab1['z'], \n",
    "        test_size=0.3)\n",
    "\n",
    "model = LinearRegression()\n",
    "model.fit(x_train, y_train)\n",
    "\n",
    "predicted = model.predict(x_test)\n",
    "\n",
    "print('Mean Absolute Error:', metrics.mean_absolute_error(y_test, predicted))\n",
    "print('Mean Squared Error:', metrics.mean_squared_error(y_test, predicted))\n",
    "print('Root Mean Squared Error:', np.sqrt(metrics.mean_squared_error(y_test, predicted)))\n",
    "\n",
    "df = pd.DataFrame({'Actual': y_test, 'Predicted': predicted})\n",
    "df.head()"
   ]
  },
  {
   "cell_type": "markdown",
   "metadata": {},
   "source": [
    "#### Для Y"
   ]
  },
  {
   "cell_type": "code",
   "execution_count": 15,
   "metadata": {},
   "outputs": [
    {
     "name": "stdout",
     "output_type": "stream",
     "text": [
      "Mean Absolute Error: 0.05150481671225897\n",
      "Mean Squared Error: 0.004953336550361893\n",
      "Root Mean Squared Error: 0.07037994423386462\n"
     ]
    },
    {
     "data": {
      "text/html": [
       "<div>\n",
       "<style scoped>\n",
       "    .dataframe tbody tr th:only-of-type {\n",
       "        vertical-align: middle;\n",
       "    }\n",
       "\n",
       "    .dataframe tbody tr th {\n",
       "        vertical-align: top;\n",
       "    }\n",
       "\n",
       "    .dataframe thead th {\n",
       "        text-align: right;\n",
       "    }\n",
       "</style>\n",
       "<table border=\"1\" class=\"dataframe\">\n",
       "  <thead>\n",
       "    <tr style=\"text-align: right;\">\n",
       "      <th></th>\n",
       "      <th>Actual</th>\n",
       "      <th>Predicted</th>\n",
       "    </tr>\n",
       "  </thead>\n",
       "  <tbody>\n",
       "    <tr>\n",
       "      <th>113</th>\n",
       "      <td>0.812950</td>\n",
       "      <td>0.697977</td>\n",
       "    </tr>\n",
       "    <tr>\n",
       "      <th>20</th>\n",
       "      <td>0.491248</td>\n",
       "      <td>0.493424</td>\n",
       "    </tr>\n",
       "    <tr>\n",
       "      <th>15</th>\n",
       "      <td>0.731601</td>\n",
       "      <td>0.784167</td>\n",
       "    </tr>\n",
       "    <tr>\n",
       "      <th>147</th>\n",
       "      <td>0.450643</td>\n",
       "      <td>0.464671</td>\n",
       "    </tr>\n",
       "    <tr>\n",
       "      <th>33</th>\n",
       "      <td>0.830146</td>\n",
       "      <td>0.742116</td>\n",
       "    </tr>\n",
       "  </tbody>\n",
       "</table>\n",
       "</div>"
      ],
      "text/plain": [
       "       Actual  Predicted\n",
       "113  0.812950   0.697977\n",
       "20   0.491248   0.493424\n",
       "15   0.731601   0.784167\n",
       "147  0.450643   0.464671\n",
       "33   0.830146   0.742116"
      ]
     },
     "execution_count": 15,
     "metadata": {},
     "output_type": "execute_result"
    }
   ],
   "source": [
    "x_train, x_test, y_train, y_test = train_test_split(\n",
    "        data_reglab1.drop(['y'], axis=1), \n",
    "        data_reglab1['y'], \n",
    "        test_size=0.3)\n",
    "\n",
    "model = LinearRegression()\n",
    "model.fit(x_train, y_train)\n",
    "\n",
    "predicted = model.predict(x_test)\n",
    "\n",
    "print('Mean Absolute Error:', metrics.mean_absolute_error(y_test, predicted))\n",
    "print('Mean Squared Error:', metrics.mean_squared_error(y_test, predicted))\n",
    "print('Root Mean Squared Error:', np.sqrt(metrics.mean_squared_error(y_test, predicted)))\n",
    "\n",
    "df = pd.DataFrame({'Actual': y_test, 'Predicted': predicted})\n",
    "df.head()"
   ]
  },
  {
   "cell_type": "markdown",
   "metadata": {},
   "source": [
    "#### Для X"
   ]
  },
  {
   "cell_type": "code",
   "execution_count": 16,
   "metadata": {},
   "outputs": [
    {
     "name": "stdout",
     "output_type": "stream",
     "text": [
      "Mean Absolute Error: 0.06509091531760164\n",
      "Mean Squared Error: 0.007631172939915507\n",
      "Root Mean Squared Error: 0.08735658498313396\n"
     ]
    },
    {
     "data": {
      "text/html": [
       "<div>\n",
       "<style scoped>\n",
       "    .dataframe tbody tr th:only-of-type {\n",
       "        vertical-align: middle;\n",
       "    }\n",
       "\n",
       "    .dataframe tbody tr th {\n",
       "        vertical-align: top;\n",
       "    }\n",
       "\n",
       "    .dataframe thead th {\n",
       "        text-align: right;\n",
       "    }\n",
       "</style>\n",
       "<table border=\"1\" class=\"dataframe\">\n",
       "  <thead>\n",
       "    <tr style=\"text-align: right;\">\n",
       "      <th></th>\n",
       "      <th>Actual</th>\n",
       "      <th>Predicted</th>\n",
       "    </tr>\n",
       "  </thead>\n",
       "  <tbody>\n",
       "    <tr>\n",
       "      <th>114</th>\n",
       "      <td>0.763216</td>\n",
       "      <td>0.808005</td>\n",
       "    </tr>\n",
       "    <tr>\n",
       "      <th>103</th>\n",
       "      <td>0.144058</td>\n",
       "      <td>0.083314</td>\n",
       "    </tr>\n",
       "    <tr>\n",
       "      <th>35</th>\n",
       "      <td>0.704861</td>\n",
       "      <td>0.696745</td>\n",
       "    </tr>\n",
       "    <tr>\n",
       "      <th>129</th>\n",
       "      <td>0.190205</td>\n",
       "      <td>0.229605</td>\n",
       "    </tr>\n",
       "    <tr>\n",
       "      <th>19</th>\n",
       "      <td>0.913778</td>\n",
       "      <td>1.007714</td>\n",
       "    </tr>\n",
       "  </tbody>\n",
       "</table>\n",
       "</div>"
      ],
      "text/plain": [
       "       Actual  Predicted\n",
       "114  0.763216   0.808005\n",
       "103  0.144058   0.083314\n",
       "35   0.704861   0.696745\n",
       "129  0.190205   0.229605\n",
       "19   0.913778   1.007714"
      ]
     },
     "execution_count": 16,
     "metadata": {},
     "output_type": "execute_result"
    }
   ],
   "source": [
    "x_train, x_test, y_train, y_test = train_test_split(\n",
    "        data_reglab1.drop(['x'], axis=1), \n",
    "        data_reglab1['x'], \n",
    "        test_size=0.3)\n",
    "\n",
    "model = LinearRegression()\n",
    "model.fit(x_train, y_train)\n",
    "\n",
    "predicted = model.predict(x_test)\n",
    "\n",
    "print('Mean Absolute Error:', metrics.mean_absolute_error(y_test, predicted))\n",
    "print('Mean Squared Error:', metrics.mean_squared_error(y_test, predicted))\n",
    "print('Root Mean Squared Error:', np.sqrt(metrics.mean_squared_error(y_test, predicted)))\n",
    "\n",
    "df = pd.DataFrame({'Actual': y_test, 'Predicted': predicted})\n",
    "df.head()"
   ]
  },
  {
   "cell_type": "markdown",
   "metadata": {},
   "source": [
    "# Задание 2"
   ]
  },
  {
   "cell_type": "markdown",
   "metadata": {},
   "source": [
    "Реализуйте следующий алгоритм для уменьшения количества признаков, используемых для построения регрессии: для каждого \\\\( k \\in \\{0, 1, ..., d\\} \\\\) выбрать подмножество признаков мощности \\\\( k^1 \\\\), минимизирующее остаточную сумму квадратов RSS. Используя полученный алгоритм, выберите оптимальное подмножество признаков для данных из файла reglab.txt. Объясните свой выбор."
   ]
  },
  {
   "cell_type": "code",
   "execution_count": 62,
   "metadata": {
    "scrolled": true
   },
   "outputs": [
    {
     "data": {
      "text/html": [
       "<div>\n",
       "<style scoped>\n",
       "    .dataframe tbody tr th:only-of-type {\n",
       "        vertical-align: middle;\n",
       "    }\n",
       "\n",
       "    .dataframe tbody tr th {\n",
       "        vertical-align: top;\n",
       "    }\n",
       "\n",
       "    .dataframe thead th {\n",
       "        text-align: right;\n",
       "    }\n",
       "</style>\n",
       "<table border=\"1\" class=\"dataframe\">\n",
       "  <thead>\n",
       "    <tr style=\"text-align: right;\">\n",
       "      <th></th>\n",
       "      <th>y</th>\n",
       "      <th>x1</th>\n",
       "      <th>x2</th>\n",
       "      <th>x3</th>\n",
       "      <th>x4</th>\n",
       "    </tr>\n",
       "  </thead>\n",
       "  <tbody>\n",
       "    <tr>\n",
       "      <th>0</th>\n",
       "      <td>3.469720</td>\n",
       "      <td>0.233628</td>\n",
       "      <td>0.835549</td>\n",
       "      <td>0.102965</td>\n",
       "      <td>0.457428</td>\n",
       "    </tr>\n",
       "    <tr>\n",
       "      <th>1</th>\n",
       "      <td>0.768448</td>\n",
       "      <td>0.117920</td>\n",
       "      <td>0.090544</td>\n",
       "      <td>0.258778</td>\n",
       "      <td>0.283951</td>\n",
       "    </tr>\n",
       "    <tr>\n",
       "      <th>2</th>\n",
       "      <td>2.880374</td>\n",
       "      <td>0.091520</td>\n",
       "      <td>0.797592</td>\n",
       "      <td>0.198528</td>\n",
       "      <td>0.699287</td>\n",
       "    </tr>\n",
       "    <tr>\n",
       "      <th>3</th>\n",
       "      <td>3.745485</td>\n",
       "      <td>0.876722</td>\n",
       "      <td>0.062935</td>\n",
       "      <td>0.615415</td>\n",
       "      <td>0.176058</td>\n",
       "    </tr>\n",
       "    <tr>\n",
       "      <th>4</th>\n",
       "      <td>1.853966</td>\n",
       "      <td>0.207406</td>\n",
       "      <td>0.303490</td>\n",
       "      <td>0.775967</td>\n",
       "      <td>0.667351</td>\n",
       "    </tr>\n",
       "  </tbody>\n",
       "</table>\n",
       "</div>"
      ],
      "text/plain": [
       "          y        x1        x2        x3        x4\n",
       "0  3.469720  0.233628  0.835549  0.102965  0.457428\n",
       "1  0.768448  0.117920  0.090544  0.258778  0.283951\n",
       "2  2.880374  0.091520  0.797592  0.198528  0.699287\n",
       "3  3.745485  0.876722  0.062935  0.615415  0.176058\n",
       "4  1.853966  0.207406  0.303490  0.775967  0.667351"
      ]
     },
     "execution_count": 62,
     "metadata": {},
     "output_type": "execute_result"
    }
   ],
   "source": [
    "data_reglab = pd.read_csv('lab5_files/reglab.txt', sep='\\t')\n",
    "\n",
    "data_reglab.head()"
   ]
  },
  {
   "cell_type": "code",
   "execution_count": 86,
   "metadata": {},
   "outputs": [
    {
     "name": "stdout",
     "output_type": "stream",
     "text": [
      "0.601648  x1\n",
      "0.320339  x2\n",
      "0.003003  x3\n",
      "0.000216  x4\n",
      "0.998637  x1 x2\n",
      "0.603842  x1 x3\n",
      "0.601649  x1 x4\n",
      "0.321480  x2 x3\n",
      "0.321453  x2 x4\n",
      "0.003083  x3 x4\n",
      "0.999158  x1 x2 x3\n",
      "0.999083  x1 x2 x4\n",
      "0.603856  x1 x3 x4\n",
      "0.322376  x2 x3 x4\n",
      "0.999511  x1 x2 x3 x4\n"
     ]
    }
   ],
   "source": [
    "import itertools\n",
    "\n",
    "\n",
    "for r in range(1, 5):\n",
    "    for x_combination in itertools.combinations(['x1', 'x2', 'x3', 'x4'], r):\n",
    "        x_train = data_reglab[[*x_combination]]\n",
    "        y_train = data_reglab['y']\n",
    "        \n",
    "        model = LinearRegression()\n",
    "        model.fit(x_train, y_train)\n",
    "        \n",
    "        print(f'{model.score(x_train, y_train):.{6}f} ', *x_combination)"
   ]
  },
  {
   "cell_type": "markdown",
   "metadata": {},
   "source": [
    "Из списка можно сделать вывод, что наибольший вклад дают признаки х1 и х2, а меньший вклад дают признаки х3 и х4. Оптимальным набором признаков будет x1 и х2."
   ]
  },
  {
   "cell_type": "markdown",
   "metadata": {},
   "source": [
    "# Задание 3"
   ]
  },
  {
   "cell_type": "markdown",
   "metadata": {},
   "source": [
    "Загрузите данные из файла cygage.txt. Постройте регрессию, выражающую зависимость возраста исследуемых отложений от глубины залегания, используя веса наблюдений. Оцените качество построенной модели."
   ]
  },
  {
   "cell_type": "code",
   "execution_count": 111,
   "metadata": {},
   "outputs": [
    {
     "data": {
      "text/html": [
       "<div>\n",
       "<style scoped>\n",
       "    .dataframe tbody tr th:only-of-type {\n",
       "        vertical-align: middle;\n",
       "    }\n",
       "\n",
       "    .dataframe tbody tr th {\n",
       "        vertical-align: top;\n",
       "    }\n",
       "\n",
       "    .dataframe thead th {\n",
       "        text-align: right;\n",
       "    }\n",
       "</style>\n",
       "<table border=\"1\" class=\"dataframe\">\n",
       "  <thead>\n",
       "    <tr style=\"text-align: right;\">\n",
       "      <th></th>\n",
       "      <th>calAge</th>\n",
       "      <th>Depth</th>\n",
       "      <th>Weight</th>\n",
       "    </tr>\n",
       "  </thead>\n",
       "  <tbody>\n",
       "    <tr>\n",
       "      <th>0</th>\n",
       "      <td>0</td>\n",
       "      <td>0</td>\n",
       "      <td>1.0</td>\n",
       "    </tr>\n",
       "    <tr>\n",
       "      <th>1</th>\n",
       "      <td>3707</td>\n",
       "      <td>77</td>\n",
       "      <td>0.1</td>\n",
       "    </tr>\n",
       "    <tr>\n",
       "      <th>2</th>\n",
       "      <td>4150</td>\n",
       "      <td>90</td>\n",
       "      <td>0.1</td>\n",
       "    </tr>\n",
       "    <tr>\n",
       "      <th>3</th>\n",
       "      <td>5350</td>\n",
       "      <td>107</td>\n",
       "      <td>0.1</td>\n",
       "    </tr>\n",
       "    <tr>\n",
       "      <th>4</th>\n",
       "      <td>4500</td>\n",
       "      <td>168</td>\n",
       "      <td>0.1</td>\n",
       "    </tr>\n",
       "    <tr>\n",
       "      <th>5</th>\n",
       "      <td>7260</td>\n",
       "      <td>217</td>\n",
       "      <td>0.1</td>\n",
       "    </tr>\n",
       "    <tr>\n",
       "      <th>6</th>\n",
       "      <td>7630</td>\n",
       "      <td>282</td>\n",
       "      <td>1.0</td>\n",
       "    </tr>\n",
       "    <tr>\n",
       "      <th>7</th>\n",
       "      <td>8960</td>\n",
       "      <td>379</td>\n",
       "      <td>0.5</td>\n",
       "    </tr>\n",
       "    <tr>\n",
       "      <th>8</th>\n",
       "      <td>10030</td>\n",
       "      <td>440</td>\n",
       "      <td>0.5</td>\n",
       "    </tr>\n",
       "    <tr>\n",
       "      <th>9</th>\n",
       "      <td>11940</td>\n",
       "      <td>514</td>\n",
       "      <td>0.5</td>\n",
       "    </tr>\n",
       "    <tr>\n",
       "      <th>10</th>\n",
       "      <td>13755</td>\n",
       "      <td>625</td>\n",
       "      <td>0.5</td>\n",
       "    </tr>\n",
       "    <tr>\n",
       "      <th>11</th>\n",
       "      <td>17360</td>\n",
       "      <td>696</td>\n",
       "      <td>0.1</td>\n",
       "    </tr>\n",
       "  </tbody>\n",
       "</table>\n",
       "</div>"
      ],
      "text/plain": [
       "    calAge  Depth  Weight\n",
       "0        0      0     1.0\n",
       "1     3707     77     0.1\n",
       "2     4150     90     0.1\n",
       "3     5350    107     0.1\n",
       "4     4500    168     0.1\n",
       "5     7260    217     0.1\n",
       "6     7630    282     1.0\n",
       "7     8960    379     0.5\n",
       "8    10030    440     0.5\n",
       "9    11940    514     0.5\n",
       "10   13755    625     0.5\n",
       "11   17360    696     0.1"
      ]
     },
     "execution_count": 111,
     "metadata": {},
     "output_type": "execute_result"
    }
   ],
   "source": [
    "data_cygage = pd.read_csv('lab5_files/cygage.txt', sep='\\t')\n",
    "data_cygage"
   ]
  },
  {
   "cell_type": "code",
   "execution_count": 118,
   "metadata": {},
   "outputs": [
    {
     "data": {
      "text/plain": [
       "0.942358833109952"
      ]
     },
     "execution_count": 118,
     "metadata": {},
     "output_type": "execute_result"
    }
   ],
   "source": [
    "x_train = np.array(data_cygage['Depth']).reshape(-1, 1)\n",
    "y_train = data_cygage['calAge']\n",
    "weight = data_cygage['Weight']\n",
    "\n",
    "model = LinearRegression()\n",
    "model.fit(x_train, y_train, sample_weight=weight)\n",
    "\n",
    "model.score(x_train, y_train)"
   ]
  },
  {
   "cell_type": "markdown",
   "metadata": {},
   "source": [
    "# Задание 4"
   ]
  },
  {
   "cell_type": "markdown",
   "metadata": {},
   "source": [
    "Загрузите данные из файла longley.csv. Данные состоят из 7 экономических переменных, наблюдаемых с 1947 по 1962 годы (n=16). Исключите переменную Population. Разделите данные на тестовую и обучающую выборки равных размеров случайным образом.\n",
    "\n",
    "Постройте линейную регрессию по признаку Employed.\n",
    "\n",
    "Постройте гребневую регрессию для значений \\\\( \\lambda = 10^{-3+0.2*i}, \\quad i = 0, ..., 25 \\\\). \n",
    "\n",
    "Подсчитайте ошибку на тестовой и обучающей выборке для линейной регрессии и гребневой регрессии на данных значениях \\\\( \\lambda \\\\), постройте графики. Объясните полученные результаты.\n"
   ]
  },
  {
   "cell_type": "code",
   "execution_count": 124,
   "metadata": {},
   "outputs": [
    {
     "data": {
      "text/html": [
       "<div>\n",
       "<style scoped>\n",
       "    .dataframe tbody tr th:only-of-type {\n",
       "        vertical-align: middle;\n",
       "    }\n",
       "\n",
       "    .dataframe tbody tr th {\n",
       "        vertical-align: top;\n",
       "    }\n",
       "\n",
       "    .dataframe thead th {\n",
       "        text-align: right;\n",
       "    }\n",
       "</style>\n",
       "<table border=\"1\" class=\"dataframe\">\n",
       "  <thead>\n",
       "    <tr style=\"text-align: right;\">\n",
       "      <th></th>\n",
       "      <th>GNP.deflator</th>\n",
       "      <th>GNP</th>\n",
       "      <th>Unemployed</th>\n",
       "      <th>Armed.Forces</th>\n",
       "      <th>Year</th>\n",
       "      <th>Employed</th>\n",
       "    </tr>\n",
       "  </thead>\n",
       "  <tbody>\n",
       "    <tr>\n",
       "      <th>0</th>\n",
       "      <td>83.0</td>\n",
       "      <td>234.289</td>\n",
       "      <td>235.6</td>\n",
       "      <td>159.0</td>\n",
       "      <td>1947</td>\n",
       "      <td>60.323</td>\n",
       "    </tr>\n",
       "    <tr>\n",
       "      <th>1</th>\n",
       "      <td>88.5</td>\n",
       "      <td>259.426</td>\n",
       "      <td>232.5</td>\n",
       "      <td>145.6</td>\n",
       "      <td>1948</td>\n",
       "      <td>61.122</td>\n",
       "    </tr>\n",
       "    <tr>\n",
       "      <th>2</th>\n",
       "      <td>88.2</td>\n",
       "      <td>258.054</td>\n",
       "      <td>368.2</td>\n",
       "      <td>161.6</td>\n",
       "      <td>1949</td>\n",
       "      <td>60.171</td>\n",
       "    </tr>\n",
       "    <tr>\n",
       "      <th>3</th>\n",
       "      <td>89.5</td>\n",
       "      <td>284.599</td>\n",
       "      <td>335.1</td>\n",
       "      <td>165.0</td>\n",
       "      <td>1950</td>\n",
       "      <td>61.187</td>\n",
       "    </tr>\n",
       "    <tr>\n",
       "      <th>4</th>\n",
       "      <td>96.2</td>\n",
       "      <td>328.975</td>\n",
       "      <td>209.9</td>\n",
       "      <td>309.9</td>\n",
       "      <td>1951</td>\n",
       "      <td>63.221</td>\n",
       "    </tr>\n",
       "    <tr>\n",
       "      <th>5</th>\n",
       "      <td>98.1</td>\n",
       "      <td>346.999</td>\n",
       "      <td>193.2</td>\n",
       "      <td>359.4</td>\n",
       "      <td>1952</td>\n",
       "      <td>63.639</td>\n",
       "    </tr>\n",
       "    <tr>\n",
       "      <th>6</th>\n",
       "      <td>99.0</td>\n",
       "      <td>365.385</td>\n",
       "      <td>187.0</td>\n",
       "      <td>354.7</td>\n",
       "      <td>1953</td>\n",
       "      <td>64.989</td>\n",
       "    </tr>\n",
       "    <tr>\n",
       "      <th>7</th>\n",
       "      <td>100.0</td>\n",
       "      <td>363.112</td>\n",
       "      <td>357.8</td>\n",
       "      <td>335.0</td>\n",
       "      <td>1954</td>\n",
       "      <td>63.761</td>\n",
       "    </tr>\n",
       "    <tr>\n",
       "      <th>8</th>\n",
       "      <td>101.2</td>\n",
       "      <td>397.469</td>\n",
       "      <td>290.4</td>\n",
       "      <td>304.8</td>\n",
       "      <td>1955</td>\n",
       "      <td>66.019</td>\n",
       "    </tr>\n",
       "    <tr>\n",
       "      <th>9</th>\n",
       "      <td>104.6</td>\n",
       "      <td>419.180</td>\n",
       "      <td>282.2</td>\n",
       "      <td>285.7</td>\n",
       "      <td>1956</td>\n",
       "      <td>67.857</td>\n",
       "    </tr>\n",
       "    <tr>\n",
       "      <th>10</th>\n",
       "      <td>108.4</td>\n",
       "      <td>442.769</td>\n",
       "      <td>293.6</td>\n",
       "      <td>279.8</td>\n",
       "      <td>1957</td>\n",
       "      <td>68.169</td>\n",
       "    </tr>\n",
       "    <tr>\n",
       "      <th>11</th>\n",
       "      <td>110.8</td>\n",
       "      <td>444.546</td>\n",
       "      <td>468.1</td>\n",
       "      <td>263.7</td>\n",
       "      <td>1958</td>\n",
       "      <td>66.513</td>\n",
       "    </tr>\n",
       "    <tr>\n",
       "      <th>12</th>\n",
       "      <td>112.6</td>\n",
       "      <td>482.704</td>\n",
       "      <td>381.3</td>\n",
       "      <td>255.2</td>\n",
       "      <td>1959</td>\n",
       "      <td>68.655</td>\n",
       "    </tr>\n",
       "    <tr>\n",
       "      <th>13</th>\n",
       "      <td>114.2</td>\n",
       "      <td>502.601</td>\n",
       "      <td>393.1</td>\n",
       "      <td>251.4</td>\n",
       "      <td>1960</td>\n",
       "      <td>69.564</td>\n",
       "    </tr>\n",
       "    <tr>\n",
       "      <th>14</th>\n",
       "      <td>115.7</td>\n",
       "      <td>518.173</td>\n",
       "      <td>480.6</td>\n",
       "      <td>257.2</td>\n",
       "      <td>1961</td>\n",
       "      <td>69.331</td>\n",
       "    </tr>\n",
       "    <tr>\n",
       "      <th>15</th>\n",
       "      <td>116.9</td>\n",
       "      <td>554.894</td>\n",
       "      <td>400.7</td>\n",
       "      <td>282.7</td>\n",
       "      <td>1962</td>\n",
       "      <td>70.551</td>\n",
       "    </tr>\n",
       "  </tbody>\n",
       "</table>\n",
       "</div>"
      ],
      "text/plain": [
       "    GNP.deflator      GNP  Unemployed  Armed.Forces  Year  Employed\n",
       "0           83.0  234.289       235.6         159.0  1947    60.323\n",
       "1           88.5  259.426       232.5         145.6  1948    61.122\n",
       "2           88.2  258.054       368.2         161.6  1949    60.171\n",
       "3           89.5  284.599       335.1         165.0  1950    61.187\n",
       "4           96.2  328.975       209.9         309.9  1951    63.221\n",
       "5           98.1  346.999       193.2         359.4  1952    63.639\n",
       "6           99.0  365.385       187.0         354.7  1953    64.989\n",
       "7          100.0  363.112       357.8         335.0  1954    63.761\n",
       "8          101.2  397.469       290.4         304.8  1955    66.019\n",
       "9          104.6  419.180       282.2         285.7  1956    67.857\n",
       "10         108.4  442.769       293.6         279.8  1957    68.169\n",
       "11         110.8  444.546       468.1         263.7  1958    66.513\n",
       "12         112.6  482.704       381.3         255.2  1959    68.655\n",
       "13         114.2  502.601       393.1         251.4  1960    69.564\n",
       "14         115.7  518.173       480.6         257.2  1961    69.331\n",
       "15         116.9  554.894       400.7         282.7  1962    70.551"
      ]
     },
     "execution_count": 124,
     "metadata": {},
     "output_type": "execute_result"
    }
   ],
   "source": [
    "data_longley = pd.read_csv('lab5_files/longley.csv')\n",
    "data_longley.drop('Population', axis=1, inplace=True)\n",
    "data_longley"
   ]
  },
  {
   "cell_type": "code",
   "execution_count": 156,
   "metadata": {},
   "outputs": [
    {
     "name": "stdout",
     "output_type": "stream",
     "text": [
      "MIN  ridge score, lambda:  0.10399332123306794 0.15848931924611143\n"
     ]
    },
    {
     "data": {
      "image/png": "[encoded data removed]",
      "text/plain": [
       "<Figure size 432x288 with 1 Axes>"
      ]
     },
     "metadata": {
      "needs_background": "light"
     },
     "output_type": "display_data"
    }
   ],
   "source": [
    "x_train, x_test, y_train, y_test = train_test_split(\n",
    "        data_longley.drop(['Employed'], axis=1), \n",
    "        data_longley['Employed'], \n",
    "        random_state=1,\n",
    "        test_size=0.5)\n",
    "\n",
    "model = LinearRegression()\n",
    "model.fit(x_train, y_train)\n",
    "\n",
    "linear_score = model.score(x_train, y_train)\n",
    "\n",
    "parameters = [10 ** (-3 + 0.2 * i) for i in range(26)]\n",
    "ridge_score_test = []\n",
    "ridge_score_train = []\n",
    "\n",
    "for parameter in parameters:\n",
    "    model = Ridge(alpha=parameter)\n",
    "    \n",
    "    model.fit(x_train, y_train)    \n",
    "    \n",
    "    predicted = model.predict(x_test)\n",
    "    ridge_score_test.append(metrics.mean_squared_error(y_test, predicted))\n",
    "    #ridge_score_test.append(model.score(x_test, y_test))\n",
    "    \n",
    "    predicted = model.predict(x_train)\n",
    "    ridge_score_train.append(metrics.mean_squared_error(y_train, predicted))\n",
    "    #ridge_score_train.append(model.score(x_train, y_train))\n",
    "\n",
    "print('MIN  ridge score, lambda: ', *min(zip(ridge_score_test, parameters), key=lambda i: i[0]))\n",
    "    \n",
    "plt.plot(parameters, ridge_score_test, label='test')  \n",
    "plt.plot(parameters, ridge_score_train, label='train')  \n",
    "        \n",
    "plt.title(\"Зависимость ошибки от lambda\")\n",
    "axes = plt.gca()\n",
    "axes.set_ylabel('Ошибка')\n",
    "axes.set_xlabel('lambda')\n",
    "axes.legend()\n",
    "plt.show()\n"
   ]
  },
  {
   "cell_type": "markdown",
   "metadata": {},
   "source": [
    "# Задание 5"
   ]
  },
  {
   "cell_type": "markdown",
   "metadata": {},
   "source": [
    "Загрузите данные из файла eustock.csv. Данные содержат ежедневные котировки на момент закрытия фондовых бирж: Germany DAX (Ibis), Switzerland SMI, France CAC, и UK FTSE. Постройте на одном графике все кривые изменения котировок во времени. Постройте линейную регрессию для каждой модели в отдельности и для всех моделей вместе. Оцените, какая из бирж имеет наибольшую динамику."
   ]
  },
  {
   "cell_type": "code",
   "execution_count": 157,
   "metadata": {},
   "outputs": [
    {
     "data": {
      "text/html": [
       "<div>\n",
       "<style scoped>\n",
       "    .dataframe tbody tr th:only-of-type {\n",
       "        vertical-align: middle;\n",
       "    }\n",
       "\n",
       "    .dataframe tbody tr th {\n",
       "        vertical-align: top;\n",
       "    }\n",
       "\n",
       "    .dataframe thead th {\n",
       "        text-align: right;\n",
       "    }\n",
       "</style>\n",
       "<table border=\"1\" class=\"dataframe\">\n",
       "  <thead>\n",
       "    <tr style=\"text-align: right;\">\n",
       "      <th></th>\n",
       "      <th>DAX</th>\n",
       "      <th>SMI</th>\n",
       "      <th>CAC</th>\n",
       "      <th>FTSE</th>\n",
       "    </tr>\n",
       "  </thead>\n",
       "  <tbody>\n",
       "    <tr>\n",
       "      <th>0</th>\n",
       "      <td>1628.75</td>\n",
       "      <td>1678.1</td>\n",
       "      <td>1772.8</td>\n",
       "      <td>2443.6</td>\n",
       "    </tr>\n",
       "    <tr>\n",
       "      <th>1</th>\n",
       "      <td>1613.63</td>\n",
       "      <td>1688.5</td>\n",
       "      <td>1750.5</td>\n",
       "      <td>2460.2</td>\n",
       "    </tr>\n",
       "    <tr>\n",
       "      <th>2</th>\n",
       "      <td>1606.51</td>\n",
       "      <td>1678.6</td>\n",
       "      <td>1718.0</td>\n",
       "      <td>2448.2</td>\n",
       "    </tr>\n",
       "    <tr>\n",
       "      <th>3</th>\n",
       "      <td>1621.04</td>\n",
       "      <td>1684.1</td>\n",
       "      <td>1708.1</td>\n",
       "      <td>2470.4</td>\n",
       "    </tr>\n",
       "    <tr>\n",
       "      <th>4</th>\n",
       "      <td>1618.16</td>\n",
       "      <td>1686.6</td>\n",
       "      <td>1723.1</td>\n",
       "      <td>2484.7</td>\n",
       "    </tr>\n",
       "    <tr>\n",
       "      <th>...</th>\n",
       "      <td>...</td>\n",
       "      <td>...</td>\n",
       "      <td>...</td>\n",
       "      <td>...</td>\n",
       "    </tr>\n",
       "    <tr>\n",
       "      <th>1855</th>\n",
       "      <td>5460.43</td>\n",
       "      <td>7721.3</td>\n",
       "      <td>3939.5</td>\n",
       "      <td>5587.6</td>\n",
       "    </tr>\n",
       "    <tr>\n",
       "      <th>1856</th>\n",
       "      <td>5285.78</td>\n",
       "      <td>7447.9</td>\n",
       "      <td>3846.0</td>\n",
       "      <td>5432.8</td>\n",
       "    </tr>\n",
       "    <tr>\n",
       "      <th>1857</th>\n",
       "      <td>5386.94</td>\n",
       "      <td>7607.5</td>\n",
       "      <td>3945.7</td>\n",
       "      <td>5462.2</td>\n",
       "    </tr>\n",
       "    <tr>\n",
       "      <th>1858</th>\n",
       "      <td>5355.03</td>\n",
       "      <td>7552.6</td>\n",
       "      <td>3951.7</td>\n",
       "      <td>5399.5</td>\n",
       "    </tr>\n",
       "    <tr>\n",
       "      <th>1859</th>\n",
       "      <td>5473.72</td>\n",
       "      <td>7676.3</td>\n",
       "      <td>3995.0</td>\n",
       "      <td>5455.0</td>\n",
       "    </tr>\n",
       "  </tbody>\n",
       "</table>\n",
       "<p>1860 rows × 4 columns</p>\n",
       "</div>"
      ],
      "text/plain": [
       "          DAX     SMI     CAC    FTSE\n",
       "0     1628.75  1678.1  1772.8  2443.6\n",
       "1     1613.63  1688.5  1750.5  2460.2\n",
       "2     1606.51  1678.6  1718.0  2448.2\n",
       "3     1621.04  1684.1  1708.1  2470.4\n",
       "4     1618.16  1686.6  1723.1  2484.7\n",
       "...       ...     ...     ...     ...\n",
       "1855  5460.43  7721.3  3939.5  5587.6\n",
       "1856  5285.78  7447.9  3846.0  5432.8\n",
       "1857  5386.94  7607.5  3945.7  5462.2\n",
       "1858  5355.03  7552.6  3951.7  5399.5\n",
       "1859  5473.72  7676.3  3995.0  5455.0\n",
       "\n",
       "[1860 rows x 4 columns]"
      ]
     },
     "execution_count": 157,
     "metadata": {},
     "output_type": "execute_result"
    }
   ],
   "source": [
    "data_eustock = pd.read_csv('lab5_files/eustock.csv')\n",
    "data_eustock"
   ]
  },
  {
   "cell_type": "code",
   "execution_count": 184,
   "metadata": {
    "scrolled": true
   },
   "outputs": [
    {
     "data": {
      "image/png": "[encoded data removed]",
      "text/plain": [
       "<Figure size 432x288 with 1 Axes>"
      ]
     },
     "metadata": {
      "needs_background": "light"
     },
     "output_type": "display_data"
    }
   ],
   "source": [
    "data_eustock.plot()  \n",
    "        \n",
    "plt.title(\"Ежедневные котировки\")\n",
    "axes = plt.gca()\n",
    "axes.set_ylabel('Котировки')\n",
    "axes.set_xlabel('Год')\n",
    "axes.legend()\n",
    "plt.show()"
   ]
  },
  {
   "cell_type": "code",
   "execution_count": 245,
   "metadata": {},
   "outputs": [
    {
     "data": {
      "image/png": "[encoded data removed]",
      "text/plain": [
       "<Figure size 432x288 with 1 Axes>"
      ]
     },
     "metadata": {
      "needs_background": "light"
     },
     "output_type": "display_data"
    },
    {
     "data": {
      "image/png": "[encoded data removed]",
      "text/plain": [
       "<Figure size 432x288 with 1 Axes>"
      ]
     },
     "metadata": {
      "needs_background": "light"
     },
     "output_type": "display_data"
    },
    {
     "data": {
      "image/png": "[encoded data removed]",
      "text/plain": [
       "<Figure size 432x288 with 1 Axes>"
      ]
     },
     "metadata": {
      "needs_background": "light"
     },
     "output_type": "display_data"
    },
    {
     "data": {
      "image/png": "[encoded data removed]",
      "text/plain": [
       "<Figure size 432x288 with 1 Axes>"
      ]
     },
     "metadata": {
      "needs_background": "light"
     },
     "output_type": "display_data"
    }
   ],
   "source": [
    "x_train = np.array(data_eustock.index).reshape(-1, 1)\n",
    "y_train_list = [data_eustock['DAX'], data_eustock['SMI'], data_eustock['CAC'],  data_eustock['FTSE']]\n",
    "\n",
    "for y_train in y_train_list:\n",
    "    model = LinearRegression()\n",
    "    model.fit(x_train, y_train)    \n",
    "\n",
    "    predicted = model.predict(x_train)\n",
    "    plt.title(y_train.name)\n",
    "    plt.plot(x_train, predicted)\n",
    "    plt.plot(x_train, y_train)\n",
    "    plt.show()"
   ]
  },
  {
   "cell_type": "code",
   "execution_count": 186,
   "metadata": {},
   "outputs": [
    {
     "data": {
      "image/png": "[encoded data removed]",
      "text/plain": [
       "<Figure size 432x288 with 1 Axes>"
      ]
     },
     "metadata": {
      "needs_background": "light"
     },
     "output_type": "display_data"
    }
   ],
   "source": [
    "x_train = np.array(data_eustock.index).reshape(-1, 1)\n",
    "y_train_list = [data_eustock['DAX'], data_eustock['SMI'], data_eustock['CAC'],  data_eustock['FTSE']]\n",
    "\n",
    "for y_train in y_train_list:\n",
    "    model = LinearRegression()\n",
    "    model.fit(x_train, y_train)    \n",
    "\n",
    "    predicted = model.predict(x_train)\n",
    "    plt.plot(x_train, predicted, label=y_train.name)\n",
    "\n",
    "plt.title(\"Линейные регрессии для котировок\")\n",
    "axes = plt.gca()\n",
    "axes.set_ylabel('Котировки')\n",
    "axes.set_xlabel('Год')\n",
    "axes.legend()\n",
    "plt.show()"
   ]
  },
  {
   "cell_type": "markdown",
   "metadata": {},
   "source": [
    "# Задание 6"
   ]
  },
  {
   "cell_type": "markdown",
   "metadata": {},
   "source": [
    "Загрузите данные из файла JohnsonJohnson.csv. Данные содержат поквартальную прибыль компании Johnson & Johnson с 1960 по 1980 гг. Постройте на одном графике все кривые изменения прибыли во времени. Постройте линейную регрессию для каждого квартала в отдельности и для всех кварталов вместе. Оцените, в каком квартале компания имеет наибольшую и наименьшую динамику доходности. Сделайте прогноз по прибыли в 2016 году во всех кварталах и в среднем по году."
   ]
  },
  {
   "cell_type": "code",
   "execution_count": 190,
   "metadata": {},
   "outputs": [
    {
     "data": {
      "text/html": [
       "<div>\n",
       "<style scoped>\n",
       "    .dataframe tbody tr th:only-of-type {\n",
       "        vertical-align: middle;\n",
       "    }\n",
       "\n",
       "    .dataframe tbody tr th {\n",
       "        vertical-align: top;\n",
       "    }\n",
       "\n",
       "    .dataframe thead th {\n",
       "        text-align: right;\n",
       "    }\n",
       "</style>\n",
       "<table border=\"1\" class=\"dataframe\">\n",
       "  <thead>\n",
       "    <tr style=\"text-align: right;\">\n",
       "      <th></th>\n",
       "      <th>value</th>\n",
       "      <th>year</th>\n",
       "      <th>quarter</th>\n",
       "    </tr>\n",
       "  </thead>\n",
       "  <tbody>\n",
       "    <tr>\n",
       "      <th>0</th>\n",
       "      <td>0.71</td>\n",
       "      <td>1960</td>\n",
       "      <td>Q1</td>\n",
       "    </tr>\n",
       "    <tr>\n",
       "      <th>1</th>\n",
       "      <td>0.63</td>\n",
       "      <td>1960</td>\n",
       "      <td>Q2</td>\n",
       "    </tr>\n",
       "    <tr>\n",
       "      <th>2</th>\n",
       "      <td>0.85</td>\n",
       "      <td>1960</td>\n",
       "      <td>Q3</td>\n",
       "    </tr>\n",
       "    <tr>\n",
       "      <th>3</th>\n",
       "      <td>0.44</td>\n",
       "      <td>1960</td>\n",
       "      <td>Q4</td>\n",
       "    </tr>\n",
       "    <tr>\n",
       "      <th>4</th>\n",
       "      <td>0.61</td>\n",
       "      <td>1961</td>\n",
       "      <td>Q1</td>\n",
       "    </tr>\n",
       "    <tr>\n",
       "      <th>...</th>\n",
       "      <td>...</td>\n",
       "      <td>...</td>\n",
       "      <td>...</td>\n",
       "    </tr>\n",
       "    <tr>\n",
       "      <th>79</th>\n",
       "      <td>9.99</td>\n",
       "      <td>1979</td>\n",
       "      <td>Q4</td>\n",
       "    </tr>\n",
       "    <tr>\n",
       "      <th>80</th>\n",
       "      <td>16.20</td>\n",
       "      <td>1980</td>\n",
       "      <td>Q1</td>\n",
       "    </tr>\n",
       "    <tr>\n",
       "      <th>81</th>\n",
       "      <td>14.67</td>\n",
       "      <td>1980</td>\n",
       "      <td>Q2</td>\n",
       "    </tr>\n",
       "    <tr>\n",
       "      <th>82</th>\n",
       "      <td>16.02</td>\n",
       "      <td>1980</td>\n",
       "      <td>Q3</td>\n",
       "    </tr>\n",
       "    <tr>\n",
       "      <th>83</th>\n",
       "      <td>11.61</td>\n",
       "      <td>1980</td>\n",
       "      <td>Q4</td>\n",
       "    </tr>\n",
       "  </tbody>\n",
       "</table>\n",
       "<p>84 rows × 3 columns</p>\n",
       "</div>"
      ],
      "text/plain": [
       "    value  year quarter\n",
       "0    0.71  1960      Q1\n",
       "1    0.63  1960      Q2\n",
       "2    0.85  1960      Q3\n",
       "3    0.44  1960      Q4\n",
       "4    0.61  1961      Q1\n",
       "..    ...   ...     ...\n",
       "79   9.99  1979      Q4\n",
       "80  16.20  1980      Q1\n",
       "81  14.67  1980      Q2\n",
       "82  16.02  1980      Q3\n",
       "83  11.61  1980      Q4\n",
       "\n",
       "[84 rows x 3 columns]"
      ]
     },
     "execution_count": 190,
     "metadata": {},
     "output_type": "execute_result"
    }
   ],
   "source": [
    "data_johnson = pd.read_csv('lab5_files/JohnsonJohnson.csv')\n",
    "\n",
    "new_data = data_johnson['index'].str.split(' ',expand=True)\n",
    "new_data.columns=['year','quarter']\n",
    "\n",
    "data_johnson = pd.concat([data_johnson, new_data],axis=1)\n",
    "data_johnson.drop(['index'], axis=1, inplace=True)\n",
    "\n",
    "data_johnson"
   ]
  },
  {
   "cell_type": "markdown",
   "metadata": {},
   "source": [
    "#### Изменения прибыли"
   ]
  },
  {
   "cell_type": "code",
   "execution_count": 258,
   "metadata": {
    "scrolled": false
   },
   "outputs": [
    {
     "data": {
      "image/png": "[encoded data removed]",
      "text/plain": [
       "<Figure size 936x576 with 1 Axes>"
      ]
     },
     "metadata": {
      "needs_background": "light"
     },
     "output_type": "display_data"
    }
   ],
   "source": [
    "q1 = data_johnson[data_johnson['quarter'] == 'Q1']\n",
    "q2 = data_johnson[data_johnson['quarter'] == 'Q2']\n",
    "q3 = data_johnson[data_johnson['quarter'] == 'Q3']\n",
    "q4 = data_johnson[data_johnson['quarter'] == 'Q4']\n",
    "\n",
    "fig = plt.figure(figsize=(13,8))\n",
    "\n",
    "plt.plot(q1.year, q1.value, label='Q1')\n",
    "plt.plot(q2.year, q2.value, label='Q2')\n",
    "plt.plot(q3.year, q3.value, label='Q3')\n",
    "plt.plot(q4.year, q4.value, label='Q4')\n",
    "\n",
    "plt.title(\"Изменения прибыли\")\n",
    "axes = plt.gca()\n",
    "axes.set_ylabel('Прибыль')\n",
    "axes.set_xlabel('Год')\n",
    "axes.legend()\n",
    "plt.show()"
   ]
  },
  {
   "cell_type": "markdown",
   "metadata": {},
   "source": [
    "#### Линейные регрессии для каждого квартала отдельно и на одном графике"
   ]
  },
  {
   "cell_type": "code",
   "execution_count": 255,
   "metadata": {
    "scrolled": false
   },
   "outputs": [
    {
     "data": {
      "image/png": "[encoded data removed]",
      "text/plain": [
       "<Figure size 432x288 with 1 Axes>"
      ]
     },
     "metadata": {
      "needs_background": "light"
     },
     "output_type": "display_data"
    },
    {
     "data": {
      "image/png": "[encoded data removed]",
      "text/plain": [
       "<Figure size 432x288 with 1 Axes>"
      ]
     },
     "metadata": {
      "needs_background": "light"
     },
     "output_type": "display_data"
    },
    {
     "data": {
      "image/png": "[encoded data removed]",
      "text/plain": [
       "<Figure size 432x288 with 1 Axes>"
      ]
     },
     "metadata": {
      "needs_background": "light"
     },
     "output_type": "display_data"
    },
    {
     "data": {
      "image/png": "[encoded data removed]",
      "text/plain": [
       "<Figure size 432x288 with 1 Axes>"
      ]
     },
     "metadata": {
      "needs_background": "light"
     },
     "output_type": "display_data"
    }
   ],
   "source": [
    "y_train_list = [q1['value'], \n",
    "                q2['value'], \n",
    "                q3['value'],  \n",
    "                q4['value']]\n",
    "\n",
    "x_train = np.array(q1.year).reshape(-1, 1)\n",
    "\n",
    "for i, y_train in enumerate(y_train_list):\n",
    "    model = LinearRegression()\n",
    "    model.fit(x_train, y_train)    \n",
    "\n",
    "    predicted = model.predict(x_train)\n",
    "    \n",
    "    plt.title(f'Квартал {i + 1}')\n",
    "    plt.plot(q1.year, predicted)\n",
    "    plt.plot(q1.year, y_train)\n",
    "    axes = plt.gca()\n",
    "    axes.set_ylabel('Котировки')\n",
    "    axes.set_xlabel('Год')\n",
    "    plt.xticks(rotation=90)\n",
    "    plt.show()"
   ]
  },
  {
   "cell_type": "code",
   "execution_count": 271,
   "metadata": {},
   "outputs": [
    {
     "data": {
      "image/png": "[encoded data removed]",
      "text/plain": [
       "<Figure size 432x288 with 1 Axes>"
      ]
     },
     "metadata": {
      "needs_background": "light"
     },
     "output_type": "display_data"
    }
   ],
   "source": [
    "y_train_list = [q1['value'], \n",
    "                q2['value'], \n",
    "                q3['value'],  \n",
    "                q4['value']]\n",
    "\n",
    "x_train = np.array(q1.year).reshape(-1, 1)\n",
    "\n",
    "for i, y_train in enumerate(y_train_list):\n",
    "    model = LinearRegression()\n",
    "    model.fit(x_train, y_train)    \n",
    "\n",
    "    predicted = model.predict(x_train)\n",
    "    plt.plot(q1.year, predicted, label=f'Квартал {i + 1}')\n",
    "\n",
    "axes = plt.gca()\n",
    "axes.set_ylabel('Котировки')\n",
    "axes.set_xlabel('Год')\n",
    "axes.legend()\n",
    "plt.xticks(rotation=90)\n",
    "plt.show()"
   ]
  },
  {
   "cell_type": "markdown",
   "metadata": {},
   "source": [
    "#### Линейная регрессия для всех кварталов вместе"
   ]
  },
  {
   "cell_type": "code",
   "execution_count": 295,
   "metadata": {},
   "outputs": [
    {
     "data": {
      "image/png": "[encoded data removed]",
      "text/plain": [
       "<Figure size 432x288 with 1 Axes>"
      ]
     },
     "metadata": {
      "needs_background": "light"
     },
     "output_type": "display_data"
    }
   ],
   "source": [
    "temp_data = data_johnson\n",
    "\n",
    "label_encoder = LabelEncoder() \n",
    "temp_data['quarter'] = label_encoder.fit_transform(data_johnson['quarter']) \n",
    "temp_data['temp'] = temp_data['year'].astype(int) + ((temp_data['quarter'] + 1) / 4)\n",
    "\n",
    "x_train = np.array(temp_data['temp']).reshape(-1, 1)\n",
    "y_train = temp_data['value']\n",
    "\n",
    "modelAllQuarter = LinearRegression()\n",
    "modelAllQuarter.fit(x_train, y_train)\n",
    "\n",
    "predicted = modelAllQuarter.predict(x_train)\n",
    "    \n",
    "plt.title('Линейная регрессия для всех кварталов')\n",
    "plt.plot(temp_data['temp'], y_train)\n",
    "plt.plot(temp_data['temp'], predicted)\n",
    "plt.xticks(rotation=90)\n",
    "plt.show()"
   ]
  },
  {
   "cell_type": "markdown",
   "metadata": {},
   "source": [
    "#### Прогноз прибыли в 2016"
   ]
  },
  {
   "cell_type": "code",
   "execution_count": 297,
   "metadata": {},
   "outputs": [
    {
     "name": "stdout",
     "output_type": "stream",
     "text": [
      "Прибыль: 34.393027268738706\n"
     ]
    }
   ],
   "source": [
    "x_test = [[2016]]\n",
    "\n",
    "predicted = modelAllQuarter.predict(x_test)\n",
    "print('Прибыль:', *predicted)"
   ]
  },
  {
   "cell_type": "code",
   "execution_count": 294,
   "metadata": {},
   "outputs": [
    {
     "name": "stdout",
     "output_type": "stream",
     "text": [
      "Квартал 1   Прибыль: 36.75963636363622\n",
      "Квартал 2   Прибыль: 36.48945454545469\n",
      "Квартал 3   Прибыль: 37.653939393939254\n",
      "Квартал 4   Прибыль: 28.79391341991345\n"
     ]
    }
   ],
   "source": [
    "y_train_list = [q1['value'], \n",
    "                q2['value'], \n",
    "                q3['value'],  \n",
    "                q4['value']]\n",
    "\n",
    "x_train = np.array(q1.year).reshape(-1, 1)\n",
    "\n",
    "x_test = [[2016]]\n",
    "\n",
    "for i, y_train in enumerate(y_train_list):\n",
    "    model = LinearRegression()\n",
    "    model.fit(x_train, y_train)    \n",
    "\n",
    "    predicted = model.predict(x_test)\n",
    "    print(f'Квартал {i + 1}   Прибыль:', *predicted)"
   ]
  },
  {
   "cell_type": "markdown",
   "metadata": {},
   "source": [
    "# Задание 7"
   ]
  },
  {
   "cell_type": "markdown",
   "metadata": {},
   "source": [
    "Загрузите данные из файла cars.csv. Данные содержат зависимости тормозного пути автомобиля (футы) от его скорости (мили в час). Данные получены в 1920 г. Постройте регрессионную модель и оцените длину тормозного пути при скорости 40 миль в час."
   ]
  },
  {
   "cell_type": "code",
   "execution_count": 343,
   "metadata": {},
   "outputs": [
    {
     "data": {
      "text/html": [
       "<div>\n",
       "<style scoped>\n",
       "    .dataframe tbody tr th:only-of-type {\n",
       "        vertical-align: middle;\n",
       "    }\n",
       "\n",
       "    .dataframe tbody tr th {\n",
       "        vertical-align: top;\n",
       "    }\n",
       "\n",
       "    .dataframe thead th {\n",
       "        text-align: right;\n",
       "    }\n",
       "</style>\n",
       "<table border=\"1\" class=\"dataframe\">\n",
       "  <thead>\n",
       "    <tr style=\"text-align: right;\">\n",
       "      <th></th>\n",
       "      <th>speed</th>\n",
       "      <th>dist</th>\n",
       "    </tr>\n",
       "  </thead>\n",
       "  <tbody>\n",
       "    <tr>\n",
       "      <th>0</th>\n",
       "      <td>4</td>\n",
       "      <td>2</td>\n",
       "    </tr>\n",
       "    <tr>\n",
       "      <th>1</th>\n",
       "      <td>4</td>\n",
       "      <td>10</td>\n",
       "    </tr>\n",
       "    <tr>\n",
       "      <th>2</th>\n",
       "      <td>7</td>\n",
       "      <td>4</td>\n",
       "    </tr>\n",
       "    <tr>\n",
       "      <th>3</th>\n",
       "      <td>7</td>\n",
       "      <td>22</td>\n",
       "    </tr>\n",
       "    <tr>\n",
       "      <th>4</th>\n",
       "      <td>8</td>\n",
       "      <td>16</td>\n",
       "    </tr>\n",
       "  </tbody>\n",
       "</table>\n",
       "</div>"
      ],
      "text/plain": [
       "   speed  dist\n",
       "0      4     2\n",
       "1      4    10\n",
       "2      7     4\n",
       "3      7    22\n",
       "4      8    16"
      ]
     },
     "execution_count": 343,
     "metadata": {},
     "output_type": "execute_result"
    }
   ],
   "source": [
    "data_cars = pd.read_csv('lab5_files/cars.csv')\n",
    "\n",
    "data_cars.head()"
   ]
  },
  {
   "cell_type": "code",
   "execution_count": 344,
   "metadata": {},
   "outputs": [
    {
     "name": "stdout",
     "output_type": "stream",
     "text": [
      "Длина тормозного пути:  139.7172554744526\n"
     ]
    }
   ],
   "source": [
    "x_train = np.array(data_cars['speed']).reshape(-1, 1)\n",
    "y_train = data_cars['dist']\n",
    "\n",
    "model = LinearRegression()\n",
    "model.fit(x_train, y_train)\n",
    "\n",
    "x_test = [[40]]\n",
    "predicted = model.predict(x_test)\n",
    "print('Длина тормозного пути: ', *predicted)"
   ]
  },
  {
   "cell_type": "markdown",
   "metadata": {},
   "source": [
    "# Задание 8"
   ]
  },
  {
   "cell_type": "markdown",
   "metadata": {},
   "source": [
    "Загрузите данные из файла svmdata6.txt. Постройте регрессионный алгоритм метода опорных векторов (sklearn.svm.SVR) с параметром C = 1, используя ядро \"rbf\". Отобразите на графике зависимость среднеквадратичной ошибки на обучающей выборке от значения параметра ε. Прокомментируйте полученный результат"
   ]
  },
  {
   "cell_type": "code",
   "execution_count": 313,
   "metadata": {},
   "outputs": [
    {
     "data": {
      "text/html": [
       "<div>\n",
       "<style scoped>\n",
       "    .dataframe tbody tr th:only-of-type {\n",
       "        vertical-align: middle;\n",
       "    }\n",
       "\n",
       "    .dataframe tbody tr th {\n",
       "        vertical-align: top;\n",
       "    }\n",
       "\n",
       "    .dataframe thead th {\n",
       "        text-align: right;\n",
       "    }\n",
       "</style>\n",
       "<table border=\"1\" class=\"dataframe\">\n",
       "  <thead>\n",
       "    <tr style=\"text-align: right;\">\n",
       "      <th></th>\n",
       "      <th>X</th>\n",
       "      <th>Y</th>\n",
       "    </tr>\n",
       "  </thead>\n",
       "  <tbody>\n",
       "    <tr>\n",
       "      <th>count</th>\n",
       "      <td>101.000000</td>\n",
       "      <td>101.000000</td>\n",
       "    </tr>\n",
       "    <tr>\n",
       "      <th>mean</th>\n",
       "      <td>2.500000</td>\n",
       "      <td>0.136550</td>\n",
       "    </tr>\n",
       "    <tr>\n",
       "      <th>std</th>\n",
       "      <td>1.465009</td>\n",
       "      <td>0.723882</td>\n",
       "    </tr>\n",
       "    <tr>\n",
       "      <th>min</th>\n",
       "      <td>0.000000</td>\n",
       "      <td>-1.199663</td>\n",
       "    </tr>\n",
       "    <tr>\n",
       "      <th>25%</th>\n",
       "      <td>1.250000</td>\n",
       "      <td>-0.494140</td>\n",
       "    </tr>\n",
       "    <tr>\n",
       "      <th>50%</th>\n",
       "      <td>2.500000</td>\n",
       "      <td>0.306225</td>\n",
       "    </tr>\n",
       "    <tr>\n",
       "      <th>75%</th>\n",
       "      <td>3.750000</td>\n",
       "      <td>0.768390</td>\n",
       "    </tr>\n",
       "    <tr>\n",
       "      <th>max</th>\n",
       "      <td>5.000000</td>\n",
       "      <td>1.200163</td>\n",
       "    </tr>\n",
       "  </tbody>\n",
       "</table>\n",
       "</div>"
      ],
      "text/plain": [
       "                X           Y\n",
       "count  101.000000  101.000000\n",
       "mean     2.500000    0.136550\n",
       "std      1.465009    0.723882\n",
       "min      0.000000   -1.199663\n",
       "25%      1.250000   -0.494140\n",
       "50%      2.500000    0.306225\n",
       "75%      3.750000    0.768390\n",
       "max      5.000000    1.200163"
      ]
     },
     "execution_count": 313,
     "metadata": {},
     "output_type": "execute_result"
    }
   ],
   "source": [
    "data_svm = pd.read_csv('lab5_files/svmdata6.txt', sep='\\t')\n",
    "\n",
    "data_svm.describe()"
   ]
  },
  {
   "cell_type": "code",
   "execution_count": 318,
   "metadata": {},
   "outputs": [
    {
     "data": {
      "image/png": "[encoded data removed]",
      "text/plain": [
       "<Figure size 432x288 with 1 Axes>"
      ]
     },
     "metadata": {
      "needs_background": "light"
     },
     "output_type": "display_data"
    }
   ],
   "source": [
    "x_train = np.array(data_svm['X']).reshape(-1, 1)\n",
    "y_train = data_svm['Y']\n",
    "\n",
    "epsilon_list = [i / 100 for i in range(0, 200, 1)]\n",
    "error = []\n",
    "\n",
    "for epsilon in epsilon_list:\n",
    "    model = SVR(C=1.0, kernel='rbf', epsilon=epsilon)\n",
    "    model.fit(x_train, y_train)\n",
    "    \n",
    "    predicted = model.predict(x_train)\n",
    "    error.append(metrics.mean_squared_error(y_train, predicted))\n",
    "    \n",
    "plt.plot(epsilon_list, error, label='test')\n",
    "plt.title(\"Зависимость среднеквадратичной ошибки от epsilon\")\n",
    "axes = plt.gca()\n",
    "axes.set_ylabel('Среднеквадратичная ошибка')\n",
    "axes.set_xlabel('epsilon')\n",
    "axes.legend()\n",
    "plt.show()\n"
   ]
  },
  {
   "cell_type": "markdown",
   "metadata": {},
   "source": [
    "Если epsilon больше диапазона целевых значений, мы не можем добиться хорошего результата. Если epsilon равен нулю, мы можем получить переобучение."
   ]
  },
  {
   "cell_type": "markdown",
   "metadata": {},
   "source": [
    "# Задание 9"
   ]
  },
  {
   "cell_type": "markdown",
   "metadata": {},
   "source": [
    "Загрузите набор данных из файла nsw74psid1.csv. Постройте регрессионное дерево (sklearn.tree.DecisionTreeRegressor) для признака re78. Постройте линейную регрессионную модель и SVM-регрессию для этого набора данных. Сравните качество построенных моделей, выберите оптимальную модель и объясните свой выбор."
   ]
  },
  {
   "cell_type": "code",
   "execution_count": 320,
   "metadata": {},
   "outputs": [
    {
     "data": {
      "text/html": [
       "<div>\n",
       "<style scoped>\n",
       "    .dataframe tbody tr th:only-of-type {\n",
       "        vertical-align: middle;\n",
       "    }\n",
       "\n",
       "    .dataframe tbody tr th {\n",
       "        vertical-align: top;\n",
       "    }\n",
       "\n",
       "    .dataframe thead th {\n",
       "        text-align: right;\n",
       "    }\n",
       "</style>\n",
       "<table border=\"1\" class=\"dataframe\">\n",
       "  <thead>\n",
       "    <tr style=\"text-align: right;\">\n",
       "      <th></th>\n",
       "      <th>trt</th>\n",
       "      <th>age</th>\n",
       "      <th>educ</th>\n",
       "      <th>black</th>\n",
       "      <th>hisp</th>\n",
       "      <th>marr</th>\n",
       "      <th>nodeg</th>\n",
       "      <th>re74</th>\n",
       "      <th>re75</th>\n",
       "      <th>re78</th>\n",
       "    </tr>\n",
       "  </thead>\n",
       "  <tbody>\n",
       "    <tr>\n",
       "      <th>count</th>\n",
       "      <td>2675.000000</td>\n",
       "      <td>2675.000000</td>\n",
       "      <td>2675.000000</td>\n",
       "      <td>2675.000000</td>\n",
       "      <td>2675.000000</td>\n",
       "      <td>2675.000000</td>\n",
       "      <td>2675.000000</td>\n",
       "      <td>2675.000000</td>\n",
       "      <td>2675.000000</td>\n",
       "      <td>2675.000000</td>\n",
       "    </tr>\n",
       "    <tr>\n",
       "      <th>mean</th>\n",
       "      <td>0.069159</td>\n",
       "      <td>34.225794</td>\n",
       "      <td>11.994393</td>\n",
       "      <td>0.291589</td>\n",
       "      <td>0.034393</td>\n",
       "      <td>0.819439</td>\n",
       "      <td>0.333084</td>\n",
       "      <td>18230.003096</td>\n",
       "      <td>17850.893766</td>\n",
       "      <td>20502.375641</td>\n",
       "    </tr>\n",
       "    <tr>\n",
       "      <th>std</th>\n",
       "      <td>0.253772</td>\n",
       "      <td>10.499842</td>\n",
       "      <td>3.053556</td>\n",
       "      <td>0.454579</td>\n",
       "      <td>0.182269</td>\n",
       "      <td>0.384726</td>\n",
       "      <td>0.471404</td>\n",
       "      <td>13722.251526</td>\n",
       "      <td>13877.777180</td>\n",
       "      <td>15632.519749</td>\n",
       "    </tr>\n",
       "    <tr>\n",
       "      <th>min</th>\n",
       "      <td>0.000000</td>\n",
       "      <td>17.000000</td>\n",
       "      <td>0.000000</td>\n",
       "      <td>0.000000</td>\n",
       "      <td>0.000000</td>\n",
       "      <td>0.000000</td>\n",
       "      <td>0.000000</td>\n",
       "      <td>0.000000</td>\n",
       "      <td>0.000000</td>\n",
       "      <td>0.000000</td>\n",
       "    </tr>\n",
       "    <tr>\n",
       "      <th>25%</th>\n",
       "      <td>0.000000</td>\n",
       "      <td>25.000000</td>\n",
       "      <td>10.000000</td>\n",
       "      <td>0.000000</td>\n",
       "      <td>0.000000</td>\n",
       "      <td>1.000000</td>\n",
       "      <td>0.000000</td>\n",
       "      <td>8816.700600</td>\n",
       "      <td>7605.290300</td>\n",
       "      <td>9243.400900</td>\n",
       "    </tr>\n",
       "    <tr>\n",
       "      <th>50%</th>\n",
       "      <td>0.000000</td>\n",
       "      <td>32.000000</td>\n",
       "      <td>12.000000</td>\n",
       "      <td>0.000000</td>\n",
       "      <td>0.000000</td>\n",
       "      <td>1.000000</td>\n",
       "      <td>0.000000</td>\n",
       "      <td>17437.475000</td>\n",
       "      <td>17008.065000</td>\n",
       "      <td>19432.104000</td>\n",
       "    </tr>\n",
       "    <tr>\n",
       "      <th>75%</th>\n",
       "      <td>0.000000</td>\n",
       "      <td>43.500000</td>\n",
       "      <td>14.000000</td>\n",
       "      <td>1.000000</td>\n",
       "      <td>0.000000</td>\n",
       "      <td>1.000000</td>\n",
       "      <td>1.000000</td>\n",
       "      <td>25470.468000</td>\n",
       "      <td>25583.709500</td>\n",
       "      <td>28815.668000</td>\n",
       "    </tr>\n",
       "    <tr>\n",
       "      <th>max</th>\n",
       "      <td>1.000000</td>\n",
       "      <td>55.000000</td>\n",
       "      <td>17.000000</td>\n",
       "      <td>1.000000</td>\n",
       "      <td>1.000000</td>\n",
       "      <td>1.000000</td>\n",
       "      <td>1.000000</td>\n",
       "      <td>137148.680000</td>\n",
       "      <td>156653.230000</td>\n",
       "      <td>121173.580000</td>\n",
       "    </tr>\n",
       "  </tbody>\n",
       "</table>\n",
       "</div>"
      ],
      "text/plain": [
       "               trt          age         educ        black         hisp  \\\n",
       "count  2675.000000  2675.000000  2675.000000  2675.000000  2675.000000   \n",
       "mean      0.069159    34.225794    11.994393     0.291589     0.034393   \n",
       "std       0.253772    10.499842     3.053556     0.454579     0.182269   \n",
       "min       0.000000    17.000000     0.000000     0.000000     0.000000   \n",
       "25%       0.000000    25.000000    10.000000     0.000000     0.000000   \n",
       "50%       0.000000    32.000000    12.000000     0.000000     0.000000   \n",
       "75%       0.000000    43.500000    14.000000     1.000000     0.000000   \n",
       "max       1.000000    55.000000    17.000000     1.000000     1.000000   \n",
       "\n",
       "              marr        nodeg           re74           re75           re78  \n",
       "count  2675.000000  2675.000000    2675.000000    2675.000000    2675.000000  \n",
       "mean      0.819439     0.333084   18230.003096   17850.893766   20502.375641  \n",
       "std       0.384726     0.471404   13722.251526   13877.777180   15632.519749  \n",
       "min       0.000000     0.000000       0.000000       0.000000       0.000000  \n",
       "25%       1.000000     0.000000    8816.700600    7605.290300    9243.400900  \n",
       "50%       1.000000     0.000000   17437.475000   17008.065000   19432.104000  \n",
       "75%       1.000000     1.000000   25470.468000   25583.709500   28815.668000  \n",
       "max       1.000000     1.000000  137148.680000  156653.230000  121173.580000  "
      ]
     },
     "execution_count": 320,
     "metadata": {},
     "output_type": "execute_result"
    }
   ],
   "source": [
    "data_nsw = pd.read_csv('lab5_files/nsw74psid1.csv')\n",
    "\n",
    "data_nsw.describe()"
   ]
  },
  {
   "cell_type": "code",
   "execution_count": 341,
   "metadata": {},
   "outputs": [
    {
     "name": "stdout",
     "output_type": "stream",
     "text": [
      "Score: 0.593  Error test: 105005950.302  Error train: 100196055.585 LinearRegression\n",
      "Score: 0.002  Error test: 257211421.204  Error train: 233619968.135 SVR\n",
      "Score: 0.258  Error test: 191436624.113  Error train: 639318.406 DecisionTreeRegressor\n"
     ]
    }
   ],
   "source": [
    "x_train, x_test, y_train, y_test = train_test_split(\n",
    "        data_nsw.drop(['re78'], axis=1), \n",
    "        data_nsw['re78'],\n",
    "        random_state=1,\n",
    "        test_size=0.3)\n",
    "\n",
    "models = [\n",
    "    LinearRegression(),\n",
    "    SVR(kernel='rbf', ),\n",
    "    DecisionTreeRegressor()\n",
    "]\n",
    "\n",
    "for model in models:\n",
    "    model.fit(x_train, y_train)\n",
    "    \n",
    "    predicted = model.predict(x_test)\n",
    "    error_test = metrics.mean_squared_error(y_test, predicted)\n",
    "    \n",
    "    predicted = model.predict(x_train)\n",
    "    error_train = metrics.mean_squared_error(y_train, predicted)\n",
    "    \n",
    "    score = model.score(x_test, y_test)\n",
    "    \n",
    "    print(f'Score: {score:.{3}f}  Error test: {error_test:.{3}f}  Error train: {error_train:.{3}f}', model.__class__.__name__)"
   ]
  }
 ],
 "metadata": {
  "kernelspec": {
   "display_name": "Python 3",
   "language": "python",
   "name": "python3"
  },
  "language_info": {
   "codemirror_mode": {
    "name": "ipython",
    "version": 3
   },
   "file_extension": ".py",
   "mimetype": "text/x-python",
   "name": "python",
   "nbconvert_exporter": "python",
   "pygments_lexer": "ipython3",
   "version": "3.6.8"
  }
 },
 "nbformat": 4,
 "nbformat_minor": 4
}
