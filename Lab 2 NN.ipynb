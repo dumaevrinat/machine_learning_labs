{
 "cells": [
  {
   "cell_type": "markdown",
   "metadata": {},
   "source": [
    "# Задание 1"
   ]
  },
  {
   "cell_type": "markdown",
   "metadata": {},
   "source": [
    "Постройте нейронную сеть из одного нейрона и обучите её на датасетах nn_0.csv и nn_1.csv. \n",
    "\n",
    "Насколько отличается результат обучения и почему? \n",
    "Сколько потребовалось эпох для обучения? \n",
    "Попробуйте различные функции активации и оптимизаторы."
   ]
  },
  {
   "cell_type": "code",
   "execution_count": 1,
   "metadata": {},
   "outputs": [],
   "source": [
    "import matplotlib.pyplot as plt"
   ]
  },
  {
   "cell_type": "code",
   "execution_count": 4,
   "metadata": {},
   "outputs": [],
   "source": [
    "import numpy as np\n",
    "import pandas as pd\n",
    "\n",
    "from sklearn.model_selection import train_test_split\n",
    "from sklearn.preprocessing import LabelBinarizer\n",
    "\n",
    "import keras\n",
    "from keras import models\n",
    "from keras import layers\n",
    "from keras.utils import np_utils"
   ]
  },
  {
   "cell_type": "code",
   "execution_count": 3,
   "metadata": {},
   "outputs": [],
   "source": [
    "def get_data_plot(data):\n",
    "    fig, axes = plt.subplots()\n",
    "    axes.scatter(data[data['class'] == -1]['X1'],\n",
    "              data[data['class'] == -1]['X2'],\n",
    "              c='b')\n",
    "    axes.scatter(data[data['class'] == 1]['X1'],\n",
    "              data[data['class'] == 1]['X2'],\n",
    "              c='c')\n",
    "    axes.set_ylabel('X2')\n",
    "    axes.set_xlabel('X1')\n",
    "    plt.show()\n",
    "    \n",
    "lb = LabelBinarizer()"
   ]
  },
  {
   "cell_type": "code",
   "execution_count": 70,
   "metadata": {},
   "outputs": [
    {
     "data": {
      "image/png": "[encoded data removed]",
      "text/plain": [
       "<Figure size 432x288 with 1 Axes>"
      ]
     },
     "metadata": {
      "needs_background": "light"
     },
     "output_type": "display_data"
    }
   ],
   "source": [
    "data_1 = pd.read_csv('lab2_files/nn_0.csv')\n",
    "get_data_plot(data_1)"
   ]
  },
  {
   "cell_type": "code",
   "execution_count": 199,
   "metadata": {},
   "outputs": [
    {
     "name": "stdout",
     "output_type": "stream",
     "text": [
      "activation: sigmoid  optimizer: adam  accuracy: 0.13333334028720856\n",
      "activation: sigmoid  optimizer: adamax  accuracy: 0.8666666746139526\n",
      "activation: sigmoid  optimizer: RMSprop  accuracy: 0.1666666716337204\n",
      "activation: sigmoid  optimizer: SGD  accuracy: 1.0\n",
      "activation: relu  optimizer: adam  accuracy: 0.5666666626930237\n",
      "activation: relu  optimizer: adamax  accuracy: 0.30000001192092896\n",
      "activation: relu  optimizer: RMSprop  accuracy: 0.6000000238418579\n",
      "activation: relu  optimizer: SGD  accuracy: 0.8999999761581421\n",
      "activation: softmax  optimizer: adam  accuracy: 0.4333333373069763\n",
      "activation: softmax  optimizer: adamax  accuracy: 0.4333333373069763\n",
      "activation: softmax  optimizer: RMSprop  accuracy: 0.4333333373069763\n",
      "activation: softmax  optimizer: SGD  accuracy: 0.4333333373069763\n"
     ]
    }
   ],
   "source": [
    "x_train, x_test, y_train, y_test = train_test_split(\n",
    "        data_1.drop(['class'], axis=1), \n",
    "        data_1['class'], \n",
    "        random_state=11,\n",
    "        test_size=0.3)\n",
    "\n",
    "y_train = lb.fit_transform(y_train)\n",
    "y_test = lb.transform(y_test)\n",
    "\n",
    "activation_list = ['sigmoid', 'relu', 'softmax']\n",
    "optimizer_list = ['adam', 'adamax', 'RMSprop', 'SGD']\n",
    "\n",
    "for activation in activation_list:\n",
    "    for optimizer in optimizer_list:\n",
    "        visible = layers.Input(shape=(2,))\n",
    "        hidden = layers.Dense(1, activation=activation)(visible)\n",
    "        model = models.Model(inputs=visible, outputs=hidden)\n",
    "        model.compile(\n",
    "            optimizer = optimizer,\n",
    "            loss = \"binary_crossentropy\",\n",
    "            metrics = [\"accuracy\"]\n",
    "        )\n",
    "\n",
    "        model.fit(x_train, y_train, epochs=20, batch_size=2, validation_split=0.2, verbose=0)\n",
    "\n",
    "        test_loss, test_acc = model.evaluate(x_test, y_test, verbose=0)\n",
    "        print(f'activation: {activation}  optimizer: {optimizer}  accuracy: {test_acc}')"
   ]
  },
  {
   "cell_type": "code",
   "execution_count": 69,
   "metadata": {},
   "outputs": [
    {
     "data": {
      "image/png": "[encoded data removed]",
      "text/plain": [
       "<Figure size 432x288 with 1 Axes>"
      ]
     },
     "metadata": {
      "needs_background": "light"
     },
     "output_type": "display_data"
    }
   ],
   "source": [
    "data_2 = pd.read_csv('lab2_files/nn_1.csv')\n",
    "\n",
    "get_data_plot(data_2)"
   ]
  },
  {
   "cell_type": "code",
   "execution_count": 200,
   "metadata": {
    "scrolled": true
   },
   "outputs": [
    {
     "name": "stdout",
     "output_type": "stream",
     "text": [
      "activation: sigmoid  optimizer: adam  accuracy: 0.3333333432674408\n",
      "activation: sigmoid  optimizer: adamax  accuracy: 0.6399999856948853\n",
      "activation: sigmoid  optimizer: RMSprop  accuracy: 0.5066666603088379\n",
      "activation: sigmoid  optimizer: SGD  accuracy: 0.3866666555404663\n",
      "activation: relu  optimizer: adam  accuracy: 0.3866666555404663\n",
      "activation: relu  optimizer: adamax  accuracy: 0.3866666555404663\n",
      "activation: relu  optimizer: RMSprop  accuracy: 0.4933333396911621\n",
      "activation: relu  optimizer: SGD  accuracy: 0.36000001430511475\n",
      "activation: softmax  optimizer: adam  accuracy: 0.6133333444595337\n",
      "activation: softmax  optimizer: adamax  accuracy: 0.6133333444595337\n",
      "activation: softmax  optimizer: RMSprop  accuracy: 0.6133333444595337\n",
      "activation: softmax  optimizer: SGD  accuracy: 0.6133333444595337\n"
     ]
    }
   ],
   "source": [
    "x_train, x_test, y_train, y_test = train_test_split(\n",
    "        data_2.drop(['class'], axis=1), \n",
    "        data_2['class'], \n",
    "        random_state=11,\n",
    "        test_size=0.3)\n",
    "\n",
    "y_train = lb.fit_transform(y_train)\n",
    "y_test = lb.transform(y_test)\n",
    "\n",
    "activation_list = ['sigmoid', 'relu', 'softmax']\n",
    "optimizer_list = ['adam', 'adamax', 'RMSprop', 'SGD']\n",
    "\n",
    "for activation in activation_list:\n",
    "    for optimizer in optimizer_list:\n",
    "        visible = layers.Input(shape=(2,))\n",
    "        hidden = layers.Dense(1, activation=activation)(visible)\n",
    "        model = models.Model(inputs=visible, outputs=hidden)\n",
    "        model.compile(\n",
    "            optimizer = optimizer,\n",
    "            loss = \"binary_crossentropy\",\n",
    "            metrics = [\"accuracy\"]\n",
    "        )\n",
    "\n",
    "        model.fit(x_train, y_train, epochs=20, batch_size=2, validation_split=0.2, verbose=0)\n",
    "\n",
    "        test_loss, test_acc = model.evaluate(x_test, y_test, verbose=0)\n",
    "        print(f'activation: {activation}  optimizer: {optimizer}  accuracy: {test_acc}')"
   ]
  },
  {
   "cell_type": "markdown",
   "metadata": {},
   "source": [
    "Модель работает лучше для данных nn_0 чем nn_1. Потребовалось 20 эпох для обучения.\n",
    "\n",
    "Для данных nn_0 лучше всех подошли функция активации sigmoid и оптимизатор SGD.\n",
    "\n",
    "Для данных nn_1 лучше всех подошли функция активации sigmoid и оптимизатор adamax."
   ]
  },
  {
   "cell_type": "markdown",
   "metadata": {},
   "source": [
    "# Задание 2"
   ]
  },
  {
   "cell_type": "markdown",
   "metadata": {},
   "source": [
    "Модифицируйте нейронную сеть из пункта 1, чтобы достичь минимальной ошибки на датасете nn_1.csv. \n",
    "\n",
    "Почему были выбраны именно такие гиперпараметры?"
   ]
  },
  {
   "cell_type": "code",
   "execution_count": 355,
   "metadata": {
    "scrolled": true
   },
   "outputs": [
    {
     "name": "stdout",
     "output_type": "stream",
     "text": [
      "Train on 140 samples, validate on 35 samples\n",
      "Epoch 1/12\n",
      "140/140 [==============================] - 0s 3ms/step - loss: 0.6078 - accuracy: 0.6571 - val_loss: 0.5651 - val_accuracy: 0.6000\n",
      "Epoch 2/12\n",
      "140/140 [==============================] - 0s 2ms/step - loss: 0.4887 - accuracy: 0.7429 - val_loss: 0.4859 - val_accuracy: 0.8286\n",
      "Epoch 3/12\n",
      "140/140 [==============================] - 0s 2ms/step - loss: 0.4245 - accuracy: 0.8357 - val_loss: 0.4348 - val_accuracy: 0.8000\n",
      "Epoch 4/12\n",
      "140/140 [==============================] - 0s 2ms/step - loss: 0.3481 - accuracy: 0.9071 - val_loss: 0.3790 - val_accuracy: 0.8000\n",
      "Epoch 5/12\n",
      "140/140 [==============================] - 0s 2ms/step - loss: 0.2951 - accuracy: 0.9071 - val_loss: 0.3013 - val_accuracy: 0.9429\n",
      "Epoch 6/12\n",
      "140/140 [==============================] - 0s 2ms/step - loss: 0.2529 - accuracy: 0.9429 - val_loss: 0.2852 - val_accuracy: 0.8857\n",
      "Epoch 7/12\n",
      "140/140 [==============================] - 0s 2ms/step - loss: 0.2189 - accuracy: 0.9357 - val_loss: 0.2510 - val_accuracy: 0.9429\n",
      "Epoch 8/12\n",
      "140/140 [==============================] - 0s 2ms/step - loss: 0.1850 - accuracy: 0.9500 - val_loss: 0.2672 - val_accuracy: 0.8571\n",
      "Epoch 9/12\n",
      "140/140 [==============================] - 0s 2ms/step - loss: 0.1661 - accuracy: 0.9429 - val_loss: 0.2025 - val_accuracy: 0.9429\n",
      "Epoch 10/12\n",
      "140/140 [==============================] - 0s 2ms/step - loss: 0.1476 - accuracy: 0.9357 - val_loss: 0.1986 - val_accuracy: 0.9429\n",
      "Epoch 11/12\n",
      "140/140 [==============================] - 0s 2ms/step - loss: 0.1407 - accuracy: 0.9500 - val_loss: 0.1897 - val_accuracy: 0.9429\n",
      "Epoch 12/12\n",
      "140/140 [==============================] - 0s 2ms/step - loss: 0.1321 - accuracy: 0.9500 - val_loss: 0.1862 - val_accuracy: 0.9143\n",
      "75/75 [==============================] - 0s 119us/step\n",
      "accuracy: 0.9466666579246521\n"
     ]
    }
   ],
   "source": [
    "x_train, x_test, y_train, y_test = train_test_split(\n",
    "        data_2.drop(['class'], axis=1), \n",
    "        data_2['class'], \n",
    "        random_state=11,\n",
    "        test_size=0.3)\n",
    "\n",
    "y_train = lb.fit_transform(y_train)\n",
    "y_test = lb.transform(y_test)\n",
    "\n",
    "\n",
    "visible = layers.Input(shape=(2,))\n",
    "hidden = layers.Dense(8, activation='relu', activity_regularizer=keras.regularizers.l2(0.02))(visible)\n",
    "hidden_2 = layers.Dense(1, activation='relu')(hidden)\n",
    "model = models.Model(inputs=visible, outputs=hidden_2)\n",
    "model.compile(\n",
    "    optimizer = 'SGD',\n",
    "    loss = \"binary_crossentropy\",\n",
    "    metrics = [\"accuracy\"]\n",
    ")\n",
    "\n",
    "model.fit(x_train, y_train, epochs=12, batch_size=2, validation_split=0.2)\n",
    "\n",
    "test_loss, test_acc = model.evaluate(x_test, y_test)\n",
    "print(f'accuracy: {test_acc}')"
   ]
  },
  {
   "cell_type": "markdown",
   "metadata": {},
   "source": [
    "Для достижения минимальной ошибки на датасете nn_1.csv был добавлен дополнительный полносвязный слой из 8 нейронов с функцией активации relu и функцией регуляризации для того, чтобы применять штрафы к параметрам слоя."
   ]
  },
  {
   "cell_type": "markdown",
   "metadata": {},
   "source": [
    "# Задание 3"
   ]
  },
  {
   "cell_type": "markdown",
   "metadata": {},
   "source": [
    "Создайте классификатор на базе нейронной сети для набора данных MNIST (так же можно загрузить с помощью torchvision.datasets.MNIST, tensorflow.keras.datasets.mnist.load_data и пр.). \n",
    "\n",
    "Оцените качество классификации."
   ]
  },
  {
   "cell_type": "code",
   "execution_count": 20,
   "metadata": {},
   "outputs": [],
   "source": [
    "num_train = 60000\n",
    "num_test = 10000\n",
    "\n",
    "height, width, depth = 28, 28, 1\n",
    "\n",
    "(x_train, y_train), (x_test, y_test) = keras.datasets.mnist.load_data()\n",
    "\n",
    "x_train = x_train.reshape(num_train, height * width)\n",
    "x_test = x_test.reshape(num_test, height * width)\n",
    "x_train = x_train.astype('float32')\n",
    "x_test = x_test.astype('float32')\n",
    "\n",
    "# Нормализуем\n",
    "x_train /= 255\n",
    "x_test /= 255\n",
    "\n",
    "y_train = np_utils.to_categorical(y_train, num_classes)\n",
    "y_test = np_utils.to_categorical(y_test, num_classes)"
   ]
  },
  {
   "cell_type": "code",
   "execution_count": 19,
   "metadata": {
    "scrolled": true
   },
   "outputs": [
    {
     "name": "stdout",
     "output_type": "stream",
     "text": [
      "Train on 54000 samples, validate on 6000 samples\n",
      "Epoch 1/25\n",
      "54000/54000 [==============================] - 4s 83us/step - loss: 0.2488 - accuracy: 0.9253 - val_loss: 0.0934 - val_accuracy: 0.9712\n",
      "Epoch 2/25\n",
      "54000/54000 [==============================] - 3s 63us/step - loss: 0.0901 - accuracy: 0.9722 - val_loss: 0.0804 - val_accuracy: 0.9775\n",
      "Epoch 3/25\n",
      "54000/54000 [==============================] - 3s 63us/step - loss: 0.0568 - accuracy: 0.9817 - val_loss: 0.0837 - val_accuracy: 0.9760\n",
      "Epoch 4/25\n",
      "54000/54000 [==============================] - 3s 62us/step - loss: 0.0391 - accuracy: 0.9875 - val_loss: 0.0717 - val_accuracy: 0.9798\n",
      "Epoch 5/25\n",
      "54000/54000 [==============================] - 3s 63us/step - loss: 0.0317 - accuracy: 0.9898 - val_loss: 0.0787 - val_accuracy: 0.9780\n",
      "Epoch 6/25\n",
      "54000/54000 [==============================] - 3s 64us/step - loss: 0.0247 - accuracy: 0.9919 - val_loss: 0.0790 - val_accuracy: 0.9808\n",
      "Epoch 7/25\n",
      "54000/54000 [==============================] - 3s 64us/step - loss: 0.0206 - accuracy: 0.9929 - val_loss: 0.0882 - val_accuracy: 0.9797\n",
      "Epoch 8/25\n",
      "54000/54000 [==============================] - 3s 63us/step - loss: 0.0173 - accuracy: 0.9943 - val_loss: 0.0863 - val_accuracy: 0.9782\n",
      "Epoch 9/25\n",
      "54000/54000 [==============================] - 3s 63us/step - loss: 0.0173 - accuracy: 0.9942 - val_loss: 0.0784 - val_accuracy: 0.9833\n",
      "Epoch 10/25\n",
      "54000/54000 [==============================] - 3s 63us/step - loss: 0.0137 - accuracy: 0.9953 - val_loss: 0.0768 - val_accuracy: 0.9828\n",
      "Epoch 11/25\n",
      "54000/54000 [==============================] - 3s 64us/step - loss: 0.0135 - accuracy: 0.9954 - val_loss: 0.0948 - val_accuracy: 0.9787\n",
      "Epoch 12/25\n",
      "54000/54000 [==============================] - 3s 63us/step - loss: 0.0145 - accuracy: 0.9950 - val_loss: 0.0878 - val_accuracy: 0.9818\n",
      "Epoch 13/25\n",
      "54000/54000 [==============================] - 3s 64us/step - loss: 0.0082 - accuracy: 0.9973 - val_loss: 0.0971 - val_accuracy: 0.9818\n",
      "Epoch 14/25\n",
      "54000/54000 [==============================] - 4s 68us/step - loss: 0.0121 - accuracy: 0.9960 - val_loss: 0.0900 - val_accuracy: 0.9808\n",
      "Epoch 15/25\n",
      "54000/54000 [==============================] - 4s 65us/step - loss: 0.0104 - accuracy: 0.9965 - val_loss: 0.1201 - val_accuracy: 0.9790\n",
      "Epoch 16/25\n",
      "54000/54000 [==============================] - 3s 63us/step - loss: 0.0105 - accuracy: 0.9965 - val_loss: 0.0904 - val_accuracy: 0.9820\n",
      "Epoch 17/25\n",
      "54000/54000 [==============================] - 3s 63us/step - loss: 0.0113 - accuracy: 0.9964 - val_loss: 0.1008 - val_accuracy: 0.9832\n",
      "Epoch 18/25\n",
      "54000/54000 [==============================] - 3s 63us/step - loss: 0.0099 - accuracy: 0.9969 - val_loss: 0.1026 - val_accuracy: 0.9828\n",
      "Epoch 19/25\n",
      "54000/54000 [==============================] - 3s 63us/step - loss: 0.0074 - accuracy: 0.9976 - val_loss: 0.1061 - val_accuracy: 0.9822\n",
      "Epoch 20/25\n",
      "54000/54000 [==============================] - 3s 63us/step - loss: 0.0063 - accuracy: 0.9981 - val_loss: 0.1018 - val_accuracy: 0.9817\n",
      "Epoch 21/25\n",
      "54000/54000 [==============================] - 3s 64us/step - loss: 0.0114 - accuracy: 0.9964 - val_loss: 0.1050 - val_accuracy: 0.9818\n",
      "Epoch 22/25\n",
      "54000/54000 [==============================] - 3s 64us/step - loss: 0.0073 - accuracy: 0.9977 - val_loss: 0.1083 - val_accuracy: 0.9832\n",
      "Epoch 23/25\n",
      "54000/54000 [==============================] - 3s 63us/step - loss: 0.0072 - accuracy: 0.9977 - val_loss: 0.1019 - val_accuracy: 0.9832\n",
      "Epoch 24/25\n",
      "54000/54000 [==============================] - 3s 63us/step - loss: 0.0057 - accuracy: 0.9982 - val_loss: 0.1133 - val_accuracy: 0.9840\n",
      "Epoch 25/25\n",
      "54000/54000 [==============================] - 3s 64us/step - loss: 0.0099 - accuracy: 0.9971 - val_loss: 0.1271 - val_accuracy: 0.9808\n",
      "10000/10000 [==============================] - 1s 80us/step\n",
      "accuracy: 0.9800000190734863\n"
     ]
    }
   ],
   "source": [
    "visible = layers.Input(shape=(height * width,))\n",
    "hidden = layers.Dense(512, activation='relu')(visible)\n",
    "hidden_2 = layers.Dense(512, activation='relu')(hidden)\n",
    "out = layers.Dense(10, activation='softmax')(hidden_2)\n",
    "\n",
    "model = models.Model(inputs=visible, outputs=out)\n",
    "model.compile(optimizer = 'adam',\n",
    "              loss = \"categorical_crossentropy\",\n",
    "              metrics = [\"accuracy\"])\n",
    "\n",
    "model.fit(x_train, y_train, epochs=15, batch_size=128, validation_split=0.1)\n",
    "\n",
    "test_loss, test_acc = model.evaluate(x_test, y_test)\n",
    "print(f'accuracy: {test_acc}')"
   ]
  },
  {
   "cell_type": "markdown",
   "metadata": {},
   "source": [
    "В итоге точность модели получилась ~ 98%"
   ]
  }
 ],
 "metadata": {
  "kernelspec": {
   "display_name": "Python 3",
   "language": "python",
   "name": "python3"
  },
  "language_info": {
   "codemirror_mode": {
    "name": "ipython",
    "version": 3
   },
   "file_extension": ".py",
   "mimetype": "text/x-python",
   "name": "python",
   "nbconvert_exporter": "python",
   "pygments_lexer": "ipython3",
   "version": "3.6.8"
  }
 },
 "nbformat": 4,
 "nbformat_minor": 4
}
