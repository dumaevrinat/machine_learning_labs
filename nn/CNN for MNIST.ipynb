{
 "cells": [
  {
   "cell_type": "markdown",
   "metadata": {},
   "source": [
    "## CNN & Preprocessing for MNIST"
   ]
  },
  {
   "cell_type": "markdown",
   "metadata": {},
   "source": [
    "Использовать сверточную нейронную сеть и препроцессинг для распознавания цифр в наборе данных MNIST.\n",
    "\n",
    "Получить точность распознавания больше 99%."
   ]
  },
  {
   "cell_type": "code",
   "execution_count": 1,
   "metadata": {},
   "outputs": [
    {
     "name": "stderr",
     "output_type": "stream",
     "text": [
      "Using TensorFlow backend.\n"
     ]
    }
   ],
   "source": [
    "from keras.datasets import mnist\n",
    "\n",
    "from keras.preprocessing.image import ImageDataGenerator\n",
    "from keras.utils import to_categorical\n",
    "from keras import models\n",
    "from keras import layers\n",
    "import keras"
   ]
  },
  {
   "cell_type": "markdown",
   "metadata": {},
   "source": [
    "#### Набор данных"
   ]
  },
  {
   "cell_type": "code",
   "execution_count": 2,
   "metadata": {
    "scrolled": true
   },
   "outputs": [
    {
     "name": "stdout",
     "output_type": "stream",
     "text": [
      "Train: (60000, 28, 28) (60000,)\n",
      "Test:  (10000, 28, 28) (10000,)\n"
     ]
    }
   ],
   "source": [
    "(x_train, y_train), (x_test, y_test) = mnist.load_data()\n",
    "\n",
    "print('Train:', x_train.shape, y_train.shape)\n",
    "print('Test: ', x_test.shape, y_test.shape)"
   ]
  },
  {
   "cell_type": "markdown",
   "metadata": {},
   "source": [
    "Нормализуем значения пикселей изображений в градациях серого до диапазона [0, 1]. Для этого преобразуем тип данных из целых чисел без знака в числа с плавающей запятой, а затем поделим значений пикселей на максимальное значение.\n",
    "\n",
    "Для выходных данных преобразуем целое число в двоичный вектор из 10 элементов. "
   ]
  },
  {
   "cell_type": "code",
   "execution_count": 3,
   "metadata": {},
   "outputs": [],
   "source": [
    "x_train = x_train.reshape(x_train.shape[0], 28, 28, 1)\n",
    "x_test = x_test.reshape(x_test.shape[0], 28, 28, 1)\n",
    "\n",
    "x_train = x_train.astype('float32') \n",
    "x_test = x_test.astype('float32')\n",
    "\n",
    "x_train /= 255.0\n",
    "x_test /= 255.0\n",
    "\n",
    "y_train = to_categorical(y_train)\n",
    "y_test = to_categorical(y_test)"
   ]
  },
  {
   "cell_type": "markdown",
   "metadata": {},
   "source": [
    "#### Предобработка данных"
   ]
  },
  {
   "cell_type": "markdown",
   "metadata": {},
   "source": [
    "Создадим экзепляр класса ImageDataGenerator для автоматического расширения данных при обучении модели.\n",
    "\n",
    "Используем zoom_range для создания случайного масштабирования изображения в диапазоне [0.9, 1.1]. Используем rotation_range для случайного поворота изображения."
   ]
  },
  {
   "cell_type": "code",
   "execution_count": 7,
   "metadata": {
    "scrolled": true
   },
   "outputs": [],
   "source": [
    "datagen = ImageDataGenerator(\n",
    "    zoom_range=(0.9, 1.1),\n",
    "    rotation_range=20,\n",
    "    validation_split = 0.2\n",
    ")\n",
    "\n",
    "iterator = datagen.flow(x_train, y_train)"
   ]
  },
  {
   "cell_type": "markdown",
   "metadata": {},
   "source": [
    "#### Convolutional Neural Network"
   ]
  },
  {
   "cell_type": "code",
   "execution_count": 9,
   "metadata": {},
   "outputs": [
    {
     "name": "stdout",
     "output_type": "stream",
     "text": [
      "Epoch 1/8\n",
      "1875/1875 [==============================] - 20s 11ms/step - loss: 0.1827 - accuracy: 0.9422\n",
      "Epoch 2/8\n",
      "1875/1875 [==============================] - 20s 11ms/step - loss: 0.0684 - accuracy: 0.9788\n",
      "Epoch 3/8\n",
      "1875/1875 [==============================] - 20s 11ms/step - loss: 0.0530 - accuracy: 0.9842\n",
      "Epoch 4/8\n",
      "1875/1875 [==============================] - 20s 11ms/step - loss: 0.0443 - accuracy: 0.9865\n",
      "Epoch 5/8\n",
      "1875/1875 [==============================] - 20s 11ms/step - loss: 0.0390 - accuracy: 0.9879\n",
      "Epoch 6/8\n",
      "1875/1875 [==============================] - 20s 11ms/step - loss: 0.0351 - accuracy: 0.9894\n",
      "Epoch 7/8\n",
      "1875/1875 [==============================] - 20s 11ms/step - loss: 0.0307 - accuracy: 0.9904\n",
      "Epoch 8/8\n",
      "1875/1875 [==============================] - 20s 11ms/step - loss: 0.0276 - accuracy: 0.9917\n",
      "Loss= 0.02164245426790585\n",
      "Accuracy= 0.9939000010490417\n"
     ]
    }
   ],
   "source": [
    "model = models.Sequential()\n",
    "\n",
    "model.add(layers.Conv2D(32, kernel_size=(3, 3), activation='relu', input_shape=(28, 28, 1)))\n",
    "model.add(layers.MaxPooling2D(pool_size=(2, 2)))\n",
    "model.add(layers.Conv2D(64, kernel_size=(3, 3), activation='relu'))\n",
    "model.add(layers.Conv2D(64, kernel_size=(3, 3), activation='relu'))\n",
    "model.add(layers.MaxPooling2D(pool_size=(2, 2)))\n",
    "model.add(layers.Flatten())\n",
    "model.add(layers.Dense(128, activation='relu'))\n",
    "model.add(layers.Dropout(0.2))\n",
    "model.add(layers.Dense(10, activation='softmax'))\n",
    "\n",
    "model.compile(\n",
    "    optimizer='adam', \n",
    "    metrics=['accuracy'], \n",
    "    loss='categorical_crossentropy'\n",
    ")\n",
    "\n",
    "model.fit_generator(iterator, epochs=8)\n",
    "\n",
    "score = model.evaluate(x_test, y_test, verbose=0)\n",
    "\n",
    "print('Loss=', score[0]) \n",
    "print('Accuracy=', score[1]) "
   ]
  }
 ],
 "metadata": {
  "kernelspec": {
   "display_name": "Python 3",
   "language": "python",
   "name": "python3"
  },
  "language_info": {
   "codemirror_mode": {
    "name": "ipython",
    "version": 3
   },
   "file_extension": ".py",
   "mimetype": "text/x-python",
   "name": "python",
   "nbconvert_exporter": "python",
   "pygments_lexer": "ipython3",
   "version": "3.6.8"
  }
 },
 "nbformat": 4,
 "nbformat_minor": 4
}
